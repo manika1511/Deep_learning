{
 "cells": [
  {
   "cell_type": "code",
   "execution_count": 1,
   "metadata": {
    "collapsed": true
   },
   "outputs": [],
   "source": [
    "import warnings\n",
    "warnings.filterwarnings(\"ignore\")\n",
    "import pandas as pd\n",
    "import numpy as np\n",
    "import random\n",
    "import matplotlib.pyplot as plt\n",
    "import tensorflow as tf"
   ]
  },
  {
   "cell_type": "markdown",
   "metadata": {},
   "source": [
    "#### One-hot encoding"
   ]
  },
  {
   "cell_type": "code",
   "execution_count": 2,
   "metadata": {
    "collapsed": true
   },
   "outputs": [],
   "source": [
    "def one_hot_encoding(y, numOfClasses):\n",
    "    \"\"\"\n",
    "    Converts label into one-hot encoding.\n",
    "    takes in the labels and the number of classes \n",
    "    \"\"\"\n",
    "    encoded = np.zeros((y.shape[0],numOfClasses))\n",
    "    for i in range(y.shape[0]):\n",
    "        encoded[i][y[i]] = 1.0\n",
    "    return encoded"
   ]
  },
  {
   "cell_type": "markdown",
   "metadata": {},
   "source": [
    "#### load the data"
   ]
  },
  {
   "cell_type": "code",
   "execution_count": 3,
   "metadata": {
    "collapsed": true
   },
   "outputs": [],
   "source": [
    "train_data = pd.read_csv('./ex4_train.csv', index_col=\"Unnamed: 0\")\n",
    "test_data = pd.read_csv('./ex4_test.csv', index_col=\"Unnamed: 0\")"
   ]
  },
  {
   "cell_type": "markdown",
   "metadata": {},
   "source": [
    "#### Split the data into X and y"
   ]
  },
  {
   "cell_type": "code",
   "execution_count": 4,
   "metadata": {
    "collapsed": true
   },
   "outputs": [],
   "source": [
    "X_train = train_data.iloc[:, train_data.columns != 'y']\n",
    "y_train = train_data[\"y\"].values.reshape(-1,1)\n",
    "X_test = test_data.iloc[:, test_data.columns != 'y']\n",
    "y_test = test_data[\"y\"].values.reshape(-1,1)\n",
    "\n",
    "X_train_array = np.asarray(X_train)\n",
    "y_train_array = np.asarray(y_train)\n",
    "X_test_array = np.asarray(X_test)\n",
    "y_test_array = np.asarray(y_test)"
   ]
  },
  {
   "cell_type": "markdown",
   "metadata": {},
   "source": [
    "#### One-hot encode the labels"
   ]
  },
  {
   "cell_type": "code",
   "execution_count": 5,
   "metadata": {
    "collapsed": true
   },
   "outputs": [],
   "source": [
    "y_train_encoded = one_hot_encoding(y_train_array, 10)\n",
    "y_test_encoded = one_hot_encoding(y_test_array, 10)"
   ]
  },
  {
   "cell_type": "markdown",
   "metadata": {},
   "source": [
    "#### Network architecture"
   ]
  },
  {
   "cell_type": "code",
   "execution_count": 6,
   "metadata": {
    "collapsed": true
   },
   "outputs": [],
   "source": [
    "input_layer_size = 400\n",
    "hidden_layer1_size = 150\n",
    "hidden_layer2_size = 100\n",
    "output_layer_size = 10"
   ]
  },
  {
   "cell_type": "code",
   "execution_count": 7,
   "metadata": {
    "collapsed": true
   },
   "outputs": [],
   "source": [
    "epochs = 1000\n",
    "learning_rate = 0.01"
   ]
  },
  {
   "cell_type": "code",
   "execution_count": 8,
   "metadata": {
    "collapsed": true
   },
   "outputs": [],
   "source": [
    "def createPlaceholders(input_layer_size, hidden_layer1_size, hidden_layer2_size, output_layer_size):\n",
    "    tf.set_random_seed(10)\n",
    "    #Declare placeholders\n",
    "    x = tf.placeholder(tf.float32, [None, input_layer_size])\n",
    "    y = tf.placeholder(tf.float32, [None, output_layer_size])\n",
    "    \n",
    "    #Declare keep probability placeholder\n",
    "    keep_prob = tf.placeholder(\"float\")\n",
    "    \n",
    "    return x, y, keep_prob\n",
    "\n",
    "def xavierWeightInitializer(input_layer_size, hidden_layer1_size, hidden_layer2_size, output_layer_size):\n",
    "    tf.set_random_seed(10)\n",
    "    #Initialize weight variables\n",
    "    w_hidden1 = tf.get_variable('hidden1', shape=[input_layer_size, hidden_layer1_size],\\\n",
    "                                    initializer=tf.contrib.layers.xavier_initializer())\n",
    "    w_hidden2 = tf.get_variable('hidden2', shape=[hidden_layer1_size, hidden_layer2_size],\\\n",
    "                                    initializer=tf.contrib.layers.xavier_initializer())\n",
    "    w_output = tf.get_variable('output', shape=[hidden_layer2_size, output_layer_size],\\\n",
    "                                    initializer=tf.contrib.layers.xavier_initializer())\n",
    "\n",
    "    bias_hidden1 = tf.Variable(tf.zeros([hidden_layer1_size]))\n",
    "    bias_hidden2 = tf.Variable(tf.zeros([hidden_layer2_size]))\n",
    "    bias_output = tf.Variable(tf.zeros([output_layer_size]))\n",
    "    \n",
    "    return w_hidden1, w_hidden2, w_output, bias_hidden1, bias_hidden2, bias_output\n",
    "\n",
    "def forwardPropagation(w_hidden1, w_hidden2, w_output, bias_hidden1, bias_hidden2, bias_output, keep_prob):\n",
    "    tf.set_random_seed(10)\n",
    "    hiddenLayer1 = tf.add(tf.matmul(x, w_hidden1), bias_hidden1)\n",
    "    hiddenLayer1 = tf.nn.relu(hiddenLayer1)\n",
    "    hiddenLayer1 = tf.nn.dropout(hiddenLayer1, keep_prob)\n",
    "    hiddenLayer2 = tf.add(tf.matmul(hiddenLayer1, w_hidden2), bias_hidden2)\n",
    "    hiddenLayer2 = tf.nn.relu(hiddenLayer2)\n",
    "    outputLayer = tf.matmul(hiddenLayer2, w_output) + bias_output\n",
    "    outputLayer = tf.nn.sigmoid(outputLayer)\n",
    "    \n",
    "    return outputLayer"
   ]
  },
  {
   "cell_type": "code",
   "execution_count": 9,
   "metadata": {
    "collapsed": true
   },
   "outputs": [],
   "source": [
    "tf.set_random_seed(10)\n",
    "#create placeholders\n",
    "x, y, keep_prob = createPlaceholders(input_layer_size, hidden_layer1_size, hidden_layer2_size, output_layer_size)\n",
    "w_hidden1, w_hidden2, w_output, bias_hidden1, bias_hidden2, bias_output = xavierWeightInitializer(input_layer_size, \\\n",
    "                                                        hidden_layer1_size, hidden_layer2_size, output_layer_size)\n",
    "\n",
    "output = forwardPropagation(w_hidden1, w_hidden2, w_output, bias_hidden1, bias_hidden2, bias_output, keep_prob)\n",
    "cost = tf.reduce_mean(tf.nn.softmax_cross_entropy_with_logits(logits=output, labels=y))"
   ]
  },
  {
   "cell_type": "code",
   "execution_count": 10,
   "metadata": {
    "collapsed": true
   },
   "outputs": [],
   "source": [
    "optimizer = tf.train.AdamOptimizer(learning_rate=learning_rate).minimize(cost)"
   ]
  },
  {
   "cell_type": "code",
   "execution_count": 11,
   "metadata": {
    "collapsed": true
   },
   "outputs": [],
   "source": [
    "init = tf.global_variables_initializer()"
   ]
  },
  {
   "cell_type": "code",
   "execution_count": 12,
   "metadata": {},
   "outputs": [
    {
     "name": "stdout",
     "output_type": "stream",
     "text": [
      "Training using keep probability:  0.3\n",
      "Epoch: 100 cost = 1.50445\n",
      "Epoch: 200 cost = 1.48438\n",
      "Epoch: 300 cost = 1.48367\n",
      "Epoch: 400 cost = 1.47962\n",
      "Epoch: 500 cost = 1.47746\n",
      "Epoch: 600 cost = 1.47751\n",
      "Epoch: 700 cost = 1.48063\n",
      "Epoch: 800 cost = 1.47577\n",
      "Epoch: 900 cost = 1.47666\n",
      "Accuracy on Train Dataset using keep_prob = 0.3 : 0.995143\n",
      "Accuracy on Test Dataset using keep_prob = 0.3 : 0.939333\n",
      "Training using keep probability:  0.4\n",
      "Epoch: 100 cost = 1.46815\n",
      "Epoch: 200 cost = 1.46662\n",
      "Epoch: 300 cost = 1.46690\n",
      "Epoch: 400 cost = 1.46804\n",
      "Epoch: 500 cost = 1.46789\n",
      "Epoch: 600 cost = 1.46731\n",
      "Epoch: 700 cost = 1.46921\n",
      "Epoch: 800 cost = 1.46690\n",
      "Epoch: 900 cost = 1.46689\n",
      "Accuracy on Train Dataset using keep_prob = 0.4 : 0.996286\n",
      "Accuracy on Test Dataset using keep_prob = 0.4 : 0.940667\n",
      "Training using keep probability:  0.5\n",
      "Epoch: 100 cost = 1.46496\n",
      "Epoch: 200 cost = 1.46502\n",
      "Epoch: 300 cost = 1.46492\n",
      "Epoch: 400 cost = 1.46538\n",
      "Epoch: 500 cost = 1.46530\n",
      "Epoch: 600 cost = 1.46591\n",
      "Epoch: 700 cost = 1.46487\n",
      "Epoch: 800 cost = 1.46625\n",
      "Epoch: 900 cost = 1.46554\n",
      "Accuracy on Train Dataset using keep_prob = 0.5 : 0.996571\n",
      "Accuracy on Test Dataset using keep_prob = 0.5 : 0.945333\n",
      "Training using keep probability:  0.6\n",
      "Epoch: 100 cost = 1.46445\n",
      "Epoch: 200 cost = 1.46481\n",
      "Epoch: 300 cost = 1.46493\n",
      "Epoch: 400 cost = 1.46438\n",
      "Epoch: 500 cost = 1.46458\n",
      "Epoch: 600 cost = 1.46520\n",
      "Epoch: 700 cost = 1.46494\n",
      "Epoch: 800 cost = 1.46485\n",
      "Epoch: 900 cost = 1.46560\n",
      "Accuracy on Train Dataset using keep_prob = 0.6 : 0.996571\n",
      "Accuracy on Test Dataset using keep_prob = 0.6 : 0.948667\n",
      "Training using keep probability:  0.7\n",
      "Epoch: 100 cost = 1.46410\n",
      "Epoch: 200 cost = 1.46410\n",
      "Epoch: 300 cost = 1.46408\n",
      "Epoch: 400 cost = 1.46447\n",
      "Epoch: 500 cost = 1.46408\n",
      "Epoch: 600 cost = 1.46403\n",
      "Epoch: 700 cost = 1.46410\n",
      "Epoch: 800 cost = 1.46408\n",
      "Epoch: 900 cost = 1.46460\n",
      "Accuracy on Train Dataset using keep_prob = 0.7 : 0.996857\n",
      "Accuracy on Test Dataset using keep_prob = 0.7 : 0.946\n",
      "Training using keep probability:  0.8\n",
      "Epoch: 100 cost = 1.46415\n",
      "Epoch: 200 cost = 1.46415\n",
      "Epoch: 300 cost = 1.46405\n",
      "Epoch: 400 cost = 1.46409\n",
      "Epoch: 500 cost = 1.46405\n",
      "Epoch: 600 cost = 1.46408\n",
      "Epoch: 700 cost = 1.46406\n",
      "Epoch: 800 cost = 1.46470\n",
      "Epoch: 900 cost = 1.46437\n",
      "Accuracy on Train Dataset using keep_prob = 0.8 : 0.996857\n",
      "Accuracy on Test Dataset using keep_prob = 0.8 : 0.943333\n",
      "Training using keep probability:  0.9\n",
      "Epoch: 100 cost = 1.46402\n",
      "Epoch: 200 cost = 1.46406\n",
      "Epoch: 300 cost = 1.46402\n",
      "Epoch: 400 cost = 1.46402\n",
      "Epoch: 500 cost = 1.46402\n",
      "Epoch: 600 cost = 1.46402\n",
      "Epoch: 700 cost = 1.46402\n",
      "Epoch: 800 cost = 1.46407\n",
      "Epoch: 900 cost = 1.46409\n",
      "Accuracy on Train Dataset using keep_prob = 0.9 : 0.996857\n",
      "Accuracy on Test Dataset using keep_prob = 0.9 : 0.944667\n",
      "Time taken to run:  6.582187036673228\n"
     ]
    }
   ],
   "source": [
    "import time\n",
    "tf.set_random_seed(10)\n",
    "train_accuracy = []\n",
    "test_accuracy = []\n",
    "keep_probability = np.arange(0.3, 1.0, 0.1)\n",
    "\n",
    "start_time = time.time()\n",
    "with tf.Session() as sess:\n",
    "    # create initialized variables\n",
    "    sess.run(init)\n",
    "    for dropout in keep_probability:\n",
    "        print (\"Training using keep probability: \", dropout)\n",
    "        for epoch in range(epochs):\n",
    "            _, c = sess.run([optimizer, cost], feed_dict = {x: X_train_array, y: y_train_encoded, keep_prob: dropout})\n",
    "            if epoch % 100 == 0 and epoch != 0:\n",
    "                print (\"Epoch:\", (epoch), \"cost =\", \"{:.5f}\".format(c))\n",
    "\n",
    "        actual_prediction = tf.equal(tf.argmax(output, 1), tf.argmax(y, 1))\n",
    "        accuracy = tf.reduce_mean(tf.cast(actual_prediction, tf.float32))\n",
    "        accuracy_tr = accuracy.eval({x: X_train_array, y: y_train_encoded, keep_prob: 1.0})\n",
    "        accuracy_te = accuracy.eval({x: X_test_array, y: y_test_encoded, keep_prob: 1.0})\n",
    "        train_accuracy.append(accuracy_tr)\n",
    "        test_accuracy.append(accuracy_te)\n",
    "        print (\"Accuracy on Train Dataset using keep_prob = \" + str(dropout) + \" :\", accuracy_tr)\n",
    "        print(\"Accuracy on Test Dataset using keep_prob = \" + str(dropout) + \" :\", accuracy_te)\n",
    "\n",
    "elapsed_time = time.time() - start_time\n",
    "print (\"Time taken to run: \", float(elapsed_time/60))"
   ]
  },
  {
   "cell_type": "markdown",
   "metadata": {},
   "source": [
    "#### Plot of Test accuracy versus keep probability"
   ]
  },
  {
   "cell_type": "code",
   "execution_count": 13,
   "metadata": {},
   "outputs": [
    {
     "data": {
      "image/png": "[encoded data removed]",
      "text/plain": [
       "<matplotlib.figure.Figure at 0x181db4b3c8>"
      ]
     },
     "metadata": {},
     "output_type": "display_data"
    }
   ],
   "source": [
    "plt.plot(keep_probability, test_accuracy)\n",
    "plt.xlabel(\"keep probability\")\n",
    "plt.ylabel(\"test accuracy\")\n",
    "plt.title(\"Plot of test accuracy versus keep probability\")\n",
    "plt.show()"
   ]
  },
  {
   "cell_type": "markdown",
   "metadata": {},
   "source": [
    "#### Plot of Train accuracy versus keep probability"
   ]
  },
  {
   "cell_type": "code",
   "execution_count": 14,
   "metadata": {},
   "outputs": [
    {
     "data": {
      "image/png": "[encoded data removed]",
      "text/plain": [
       "<matplotlib.figure.Figure at 0x1a24b854a8>"
      ]
     },
     "metadata": {},
     "output_type": "display_data"
    }
   ],
   "source": [
    "plt.plot(keep_probability, train_accuracy)\n",
    "plt.xlabel(\"keep probability\")\n",
    "plt.ylabel(\"train accuracy\")\n",
    "plt.title(\"Plot of train accuracy versus keep probability\")\n",
    "plt.show()"
   ]
  },
  {
   "cell_type": "code",
   "execution_count": 15,
   "metadata": {},
   "outputs": [
    {
     "name": "stdout",
     "output_type": "stream",
     "text": [
      "Best accuracy achieved on train dataset:  0.996571\n",
      "Best accuracy achieved on test dataset:  0.948667\n"
     ]
    }
   ],
   "source": [
    "max_test_accuracy = max(test_accuracy)\n",
    "index_max_accuracy = test_accuracy.index(max_test_accuracy)\n",
    "keep_prob_best = keep_probability[index_max_accuracy]\n",
    "train_accuracy_final = train_accuracy[index_max_accuracy]\n",
    "\n",
    "print (\"Best accuracy achieved on train dataset: \", train_accuracy_final)\n",
    "print (\"Best accuracy achieved on test dataset: \", max_test_accuracy)"
   ]
  },
  {
   "cell_type": "code",
   "execution_count": null,
   "metadata": {
    "collapsed": true
   },
   "outputs": [],
   "source": []
  }
 ],
 "metadata": {
  "kernelspec": {
   "display_name": "Python 3",
   "language": "python",
   "name": "python3"
  },
  "language_info": {
   "codemirror_mode": {
    "name": "ipython",
    "version": 3
   },
   "file_extension": ".py",
   "mimetype": "text/x-python",
   "name": "python",
   "nbconvert_exporter": "python",
   "pygments_lexer": "ipython3",
   "version": "3.6.2"
  }
 },
 "nbformat": 4,
 "nbformat_minor": 2
}
