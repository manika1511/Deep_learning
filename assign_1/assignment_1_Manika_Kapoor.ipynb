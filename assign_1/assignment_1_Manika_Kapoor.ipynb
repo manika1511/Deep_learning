{
 "cells": [
  {
   "cell_type": "markdown",
   "metadata": {},
   "source": [
    "# Assignment_1"
   ]
  },
  {
   "cell_type": "markdown",
   "metadata": {},
   "source": [
    "### Import the required libraries"
   ]
  },
  {
   "cell_type": "code",
   "execution_count": 2,
   "metadata": {
    "collapsed": true
   },
   "outputs": [],
   "source": [
    "import pandas as pd\n",
    "import csv\n",
    "import matplotlib.pyplot as plt\n",
    "plt.rcParams[\"figure.figsize\"] = [8,6]\n",
    "import math\n",
    "import numpy as np\n",
    "import random"
   ]
  },
  {
   "cell_type": "markdown",
   "metadata": {},
   "source": [
    "## 1- Linear regression with one variable from scratch"
   ]
  },
  {
   "cell_type": "markdown",
   "metadata": {},
   "source": [
    "### Load the data ((ex1data1.csv)"
   ]
  },
  {
   "cell_type": "code",
   "execution_count": 3,
   "metadata": {
    "collapsed": true
   },
   "outputs": [],
   "source": [
    "data1 = pd.read_csv('./ex1data1.csv', header=None)"
   ]
  },
  {
   "cell_type": "markdown",
   "metadata": {},
   "source": [
    "### Split the data into features and output\n",
    "'X' is the list of features(input) and 'Y' is the list of output values"
   ]
  },
  {
   "cell_type": "code",
   "execution_count": 4,
   "metadata": {
    "collapsed": true
   },
   "outputs": [],
   "source": [
    "X = data1[0]\n",
    "Y = data1[1]"
   ]
  },
  {
   "cell_type": "markdown",
   "metadata": {},
   "source": [
    "### Plot the data points in the form of a Scatter Plot"
   ]
  },
  {
   "cell_type": "code",
   "execution_count": 5,
   "metadata": {},
   "outputs": [
    {
     "data": {
      "image/png": "[encoded data removed]",
      "text/plain": [
       "<matplotlib.figure.Figure at 0x111904080>"
      ]
     },
     "metadata": {},
     "output_type": "display_data"
    }
   ],
   "source": [
    "plt.scatter(X,Y,color=\"red\",marker=\"x\")\n",
    "plt.xlabel(\"population in 10000's\")\n",
    "plt.ylabel(\"profit of food truck in 10000 $\")\n",
    "plt.title(\"Scatter Plot\")\n",
    "plt.show()"
   ]
  },
  {
   "cell_type": "markdown",
   "metadata": {},
   "source": [
    "### Function to compute the cost with the given weights"
   ]
  },
  {
   "cell_type": "code",
   "execution_count": 6,
   "metadata": {
    "collapsed": true
   },
   "outputs": [],
   "source": [
    "def computeCost(X, Y, weights):\n",
    "    \"\"\"\n",
    "    X is the input list\n",
    "    Y is the output list\n",
    "    weights is the list of weights. weights[0] corresponds to bias and weights[1] corresponds to slope.\n",
    "    \"\"\"\n",
    "    total_cost = 0             \n",
    "    for x,y in zip(X,Y):\n",
    "        prediction = weights[0] + weights[1]*x\n",
    "        cost = (prediction - y)**2\n",
    "        total_cost = total_cost + cost\n",
    "    return total_cost/len(X)"
   ]
  },
  {
   "cell_type": "markdown",
   "metadata": {},
   "source": [
    "### Function to perform Gradient Descent"
   ]
  },
  {
   "cell_type": "code",
   "execution_count": 7,
   "metadata": {
    "collapsed": true
   },
   "outputs": [],
   "source": [
    "def gradientDescent(X, Y, weights, alpha, iterations):\n",
    "    \"\"\"\n",
    "    X is the input list\n",
    "    Y is the output list\n",
    "    weights is the list of weights. weights[0] corresponds to bias and weights[1] corresponds to slope.\n",
    "    alpha is the learning rate\n",
    "    returns the final weights and cost history\n",
    "    \"\"\"\n",
    "    i = 1\n",
    "    m = len(X)          #number of samples\n",
    "    cost_history = []   #list of cost after each iteration\n",
    "    count = 1\n",
    "    while count <= iterations:\n",
    "        error0 = 0\n",
    "        error1 = 0\n",
    "        for x,y in zip(X,Y):\n",
    "            prediction = weights[0] + weights[1]*x\n",
    "            cost0 = (prediction - y)\n",
    "            error0 = error0 + cost0\n",
    "            cost1 = (prediction - y)*x\n",
    "            error1 = error1 + cost1\n",
    "        #calculate gradients \n",
    "        grad0 = (2/m)*error0\n",
    "        grad1 = (2/m)*error1\n",
    "        \n",
    "        #adjust weights\n",
    "        weights[0] = weights[0] - alpha*grad0    \n",
    "        weights[1] = weights[1] - alpha*grad1\n",
    "        \n",
    "        #compute the cost and store it for reference\n",
    "\n",
    "        cost_history.append(computeCost(X, Y, weights))\n",
    "        count = count + 1\n",
    "    min_cost_iter = cost_history.index(min(cost_history)) + 1\n",
    "\n",
    "    return weights, cost_history, min(cost_history)"
   ]
  },
  {
   "cell_type": "markdown",
   "metadata": {},
   "source": [
    "### Trying different learning rate and values\n",
    "The initial weights chosen in every case is [0,0] i.e. both slope and bias are 0."
   ]
  },
  {
   "cell_type": "markdown",
   "metadata": {},
   "source": [
    "#### learning rate 0.01 "
   ]
  },
  {
   "cell_type": "code",
   "execution_count": 8,
   "metadata": {},
   "outputs": [
    {
     "name": "stdout",
     "output_type": "stream",
     "text": [
      "Minimum cost achieved with learning rate 0.01 is  8.95394275195\n"
     ]
    }
   ],
   "source": [
    "#learning rate 0.01 \n",
    "weights01, cost_history01, min_cost01 = gradientDescent(X, Y, [0,0], 0.01, 8000)\n",
    "print (\"Minimum cost achieved with learning rate 0.01 is \", min_cost01)"
   ]
  },
  {
   "cell_type": "code",
   "execution_count": 9,
   "metadata": {},
   "outputs": [
    {
     "data": {
      "image/png": "[encoded data removed]",
      "text/plain": [
       "<matplotlib.figure.Figure at 0x10ec05ba8>"
      ]
     },
     "metadata": {},
     "output_type": "display_data"
    }
   ],
   "source": [
    "plt.plot(cost_history01)\n",
    "plt.xlabel(\"iterations\")\n",
    "plt.ylabel(\"cost\")\n",
    "plt.title(\"Cost plotted with alpha=0.01 and iterations=8000\")\n",
    "plt.show()"
   ]
  },
  {
   "cell_type": "markdown",
   "metadata": {},
   "source": [
    "#### learning rate 0.005"
   ]
  },
  {
   "cell_type": "code",
   "execution_count": 10,
   "metadata": {},
   "outputs": [
    {
     "name": "stdout",
     "output_type": "stream",
     "text": [
      "Minimum cost achieved with learning rate 0.005 is  8.95394275195\n"
     ]
    }
   ],
   "source": [
    "#learning rate 0.005 \n",
    "weights005, cost_history005, min_cost005 = gradientDescent(X, Y, [0,0], 0.005, 15000)\n",
    "print (\"Minimum cost achieved with learning rate 0.005 is \", min_cost005)"
   ]
  },
  {
   "cell_type": "code",
   "execution_count": 11,
   "metadata": {},
   "outputs": [
    {
     "data": {
      "image/png": "[encoded data removed]",
      "text/plain": [
       "<matplotlib.figure.Figure at 0x111b9e860>"
      ]
     },
     "metadata": {},
     "output_type": "display_data"
    }
   ],
   "source": [
    "plt.plot(cost_history005)\n",
    "plt.xlabel(\"iterations\")\n",
    "plt.ylabel(\"cost\")\n",
    "plt.title(\"Cost plotted with alpha=0.005 and iterations=15000\")\n",
    "plt.show()"
   ]
  },
  {
   "cell_type": "markdown",
   "metadata": {},
   "source": [
    "#### learning rate 0.001"
   ]
  },
  {
   "cell_type": "code",
   "execution_count": 12,
   "metadata": {},
   "outputs": [
    {
     "name": "stdout",
     "output_type": "stream",
     "text": [
      "Minimum cost achieved with learning rate 0.001 is  8.95394275195\n"
     ]
    }
   ],
   "source": [
    "#learning rate 0.001\n",
    "weights001, cost_history001,min_cost001 = gradientDescent(X, Y, [0,0], 0.001, 55000)\n",
    "print (\"Minimum cost achieved with learning rate 0.001 is \", min_cost001)"
   ]
  },
  {
   "cell_type": "code",
   "execution_count": 13,
   "metadata": {},
   "outputs": [
    {
     "data": {
      "image/png": "[encoded data removed]",
      "text/plain": [
       "<matplotlib.figure.Figure at 0x111d5f278>"
      ]
     },
     "metadata": {},
     "output_type": "display_data"
    }
   ],
   "source": [
    "plt.plot(cost_history001)\n",
    "plt.xlabel(\"iterations\")\n",
    "plt.ylabel(\"cost\")\n",
    "plt.title(\"Cost plotted with alpha=0.001 and iterations=55000\")\n",
    "plt.show()"
   ]
  },
  {
   "cell_type": "markdown",
   "metadata": {},
   "source": [
    "#### learning rate 0.0001"
   ]
  },
  {
   "cell_type": "code",
   "execution_count": 14,
   "metadata": {},
   "outputs": [
    {
     "name": "stdout",
     "output_type": "stream",
     "text": [
      "Minimum cost achieved with learning rate 0.0001 is  8.95394275195\n"
     ]
    }
   ],
   "source": [
    "#learning rate 0.0001  \n",
    "weights0001, cost_history0001, min_cost0001 = gradientDescent(X, Y, [0,0], 0.0001, 500000)\n",
    "print (\"Minimum cost achieved with learning rate 0.0001 is \", min_cost0001)"
   ]
  },
  {
   "cell_type": "code",
   "execution_count": 15,
   "metadata": {
    "scrolled": true
   },
   "outputs": [
    {
     "data": {
      "image/png": "[encoded data removed]",
      "text/plain": [
       "<matplotlib.figure.Figure at 0x112210400>"
      ]
     },
     "metadata": {},
     "output_type": "display_data"
    }
   ],
   "source": [
    "plt.plot(cost_history0001)\n",
    "plt.xlabel(\"iterations\")\n",
    "plt.ylabel(\"cost\")\n",
    "plt.title(\"Cost plotted with alpha=0.0001 and iterations=500000\")\n",
    "plt.show()"
   ]
  },
  {
   "cell_type": "markdown",
   "metadata": {},
   "source": [
    "### Minimum cost achieved"
   ]
  },
  {
   "cell_type": "code",
   "execution_count": 16,
   "metadata": {},
   "outputs": [
    {
     "name": "stdout",
     "output_type": "stream",
     "text": [
      "Minimum cost is achieved using learning rate 0.0001 :  8.95394275195\n"
     ]
    }
   ],
   "source": [
    "min_cost = min(min_cost0001, min_cost001, min_cost01, min_cost005)\n",
    "print (\"Minimum cost is achieved using learning rate 0.0001 : \", min_cost)"
   ]
  },
  {
   "cell_type": "markdown",
   "metadata": {},
   "source": [
    "### Final Weights after Optimization"
   ]
  },
  {
   "cell_type": "code",
   "execution_count": 17,
   "metadata": {},
   "outputs": [
    {
     "name": "stdout",
     "output_type": "stream",
     "text": [
      "The final weights after optimization are:\n",
      "Bias (W0) =  -3.89578081934\n",
      "Slope (W1) =  1.19303363826\n"
     ]
    }
   ],
   "source": [
    "print (\"The final weights after optimization are:\")\n",
    "print (\"Bias (W0) = \", weights0001[0])\n",
    "print (\"Slope (W1) = \", weights0001[1])"
   ]
  },
  {
   "cell_type": "code",
   "execution_count": 18,
   "metadata": {
    "collapsed": true
   },
   "outputs": [],
   "source": [
    "Y_n = []\n",
    "for x in X:\n",
    "    y = weights0001[0] + weights0001[1]* x\n",
    "    Y_n.append(y)"
   ]
  },
  {
   "cell_type": "code",
   "execution_count": 19,
   "metadata": {},
   "outputs": [
    {
     "data": {
      "image/png": "[encoded data removed]",
      "text/plain": [
       "<matplotlib.figure.Figure at 0x112015780>"
      ]
     },
     "metadata": {},
     "output_type": "display_data"
    }
   ],
   "source": [
    "plt.scatter(X,Y,40,color=\"red\",marker=\"x\")\n",
    "plt.plot(X,Y_n)\n",
    "plt.xlabel(\"population in 10000's\")\n",
    "plt.ylabel(\"profit in 10000 $\")\n",
    "plt.title(\"Linear Regression best line fitted to training examples\")\n",
    "plt.show()"
   ]
  },
  {
   "cell_type": "markdown",
   "metadata": {},
   "source": [
    "### Root Mean Square Error after optimization"
   ]
  },
  {
   "cell_type": "code",
   "execution_count": 20,
   "metadata": {},
   "outputs": [
    {
     "name": "stdout",
     "output_type": "stream",
     "text": [
      "Root Mean Square Error after Optimization is:  2.9923139460876005\n"
     ]
    }
   ],
   "source": [
    "RMSE = math.sqrt(min_cost)\n",
    "print (\"Root Mean Square Error after Optimization is: \", RMSE)"
   ]
  },
  {
   "cell_type": "markdown",
   "metadata": {},
   "source": [
    "## 2- Linear regression with multiple variables from scratch"
   ]
  },
  {
   "cell_type": "code",
   "execution_count": 21,
   "metadata": {
    "collapsed": true
   },
   "outputs": [],
   "source": [
    "data2 = pd.read_csv('./ex1data2.csv', header=None)"
   ]
  },
  {
   "cell_type": "markdown",
   "metadata": {},
   "source": [
    "### Split the data into features and output\n",
    "'X' is the list of features(input) and 'Y' is the list of output values"
   ]
  },
  {
   "cell_type": "code",
   "execution_count": 22,
   "metadata": {
    "collapsed": true
   },
   "outputs": [],
   "source": [
    "X1 = data2.iloc[:, 0:2]\n",
    "Y1 = data2[2]"
   ]
  },
  {
   "cell_type": "markdown",
   "metadata": {},
   "source": [
    "### Data Visualization"
   ]
  },
  {
   "cell_type": "code",
   "execution_count": 23,
   "metadata": {},
   "outputs": [
    {
     "data": {
      "text/plain": [
       "<mpl_toolkits.mplot3d.art3d.Path3DCollection at 0x114eb4080>"
      ]
     },
     "execution_count": 23,
     "metadata": {},
     "output_type": "execute_result"
    },
    {
     "data": {
      "image/png": "[encoded data removed]",
      "text/plain": [
       "<matplotlib.figure.Figure at 0x114deeef0>"
      ]
     },
     "metadata": {},
     "output_type": "display_data"
    }
   ],
   "source": [
    "from mpl_toolkits import mplot3d\n",
    "%matplotlib inline\n",
    "ax = plt.axes(projection='3d')\n",
    "\n",
    "# Data for a three-dimensional line\n",
    "zline = Y1\n",
    "xline = X1[0]\n",
    "yline = X1[1]\n",
    "ax.scatter(xline, yline, zline, 'gray')\n"
   ]
  },
  {
   "cell_type": "markdown",
   "metadata": {},
   "source": [
    "### Function to normalise the features as they are of varying scale"
   ]
  },
  {
   "cell_type": "code",
   "execution_count": 24,
   "metadata": {
    "collapsed": true
   },
   "outputs": [],
   "source": [
    "def normalizeFeature(X):\n",
    "    mean0 = sum(X[0])/len(X[0])\n",
    "    diff0 = [x - mean0 for x in X[0]]\n",
    "    diff_sq0 = [d**2 for d in diff0]\n",
    "    std0 = math.sqrt(sum(diff_sq0)/len(X[0]))\n",
    "    X[0] = [(x-mean0)/std0 for x in X[0]]\n",
    "    mean1 = sum(X1)/len(X[1])\n",
    "    diff1 = [x - mean1 for x in X[1]]\n",
    "    diff_sq1 = [d**2 for d in diff1]\n",
    "    std1 = math.sqrt(sum(diff_sq1)/len(X[1]))\n",
    "    X[1] = [(x-mean1)/std1 for x in X[1]]\n",
    "    \n",
    "    return X"
   ]
  },
  {
   "cell_type": "code",
   "execution_count": 25,
   "metadata": {
    "collapsed": true
   },
   "outputs": [],
   "source": [
    "X1_norm = normalizeFeature(X1)"
   ]
  },
  {
   "cell_type": "code",
   "execution_count": 26,
   "metadata": {
    "collapsed": true
   },
   "outputs": [],
   "source": [
    "def computeCostMulti(X, Y, weights):\n",
    "    \"\"\"\n",
    "    X is the input list\n",
    "    Y is the output list\n",
    "    weights is the list of weights. weights[0] corresponds to bias and weights[1] corresponds to slope.\n",
    "    \"\"\"\n",
    "    total_cost = 0  \n",
    "    X0 = list(X[0])\n",
    "    X1 = list(X[1])\n",
    "    for x1,x2,y in zip(X0,X1,Y):\n",
    "        prediction = weights[0] + weights[1]*x1 + weights[2]*x2\n",
    "        cost = (prediction - y)**2\n",
    "        total_cost = total_cost + cost\n",
    "    return total_cost/len(X0)"
   ]
  },
  {
   "cell_type": "code",
   "execution_count": 27,
   "metadata": {
    "collapsed": true
   },
   "outputs": [],
   "source": [
    "def gradientDescentMulti(X, Y, weights, alpha, iterations):\n",
    "    \"\"\"\n",
    "    X is the input list\n",
    "    Y is the output list\n",
    "    weights is the list of weights.\n",
    "    alpha is the learning rate\n",
    "    returns the final weights and cost history\n",
    "    \"\"\"\n",
    "    X0 = list(X[0])\n",
    "    X1 = list(X[1])\n",
    "    m = len(X0)          #number of samples\n",
    "    cost_history = []   #list of cost after each iteration\n",
    "    count = 1\n",
    "    while count <= iterations:\n",
    "        error0 = 0\n",
    "        error1 = 0\n",
    "        error2 = 0\n",
    "        for x1,x2,y in zip(X0,X1,Y):\n",
    "            prediction = weights[0] + weights[1]*x1 + weights[2]*x2\n",
    "            cost0 = (prediction - y)\n",
    "            error0 = error0 + cost0\n",
    "            cost1 = (prediction - y)*x1\n",
    "            error1 = error1 + cost1\n",
    "            cost2 = (prediction - y)*x2\n",
    "            error2 = error2 + cost2\n",
    "        #calculate gradients \n",
    "        grad0 = (2/m)*error0\n",
    "        grad1 = (2/m)*error1\n",
    "        grad2 = (2/m)*error2\n",
    "        \n",
    "        #adjust weights\n",
    "        weights[0] = weights[0] - alpha*grad0    \n",
    "        weights[1] = weights[1] - alpha*grad1\n",
    "        weights[2] = weights[2] - alpha*grad2\n",
    "        \n",
    "        #compute the cost and store it for reference\n",
    "        cost_history.append(computeCostMulti(X, Y, weights))\n",
    "        count = count + 1\n",
    "    min_cost_iter = cost_history.index(min(cost_history)) + 1\n",
    "     \n",
    "    return weights, cost_history, min(cost_history)"
   ]
  },
  {
   "cell_type": "markdown",
   "metadata": {},
   "source": [
    "#### learning rate 0.01"
   ]
  },
  {
   "cell_type": "code",
   "execution_count": 28,
   "metadata": {},
   "outputs": [
    {
     "name": "stdout",
     "output_type": "stream",
     "text": [
      "Minimum cost achieved with learning rate 0.01 is  4086560954.79\n"
     ]
    }
   ],
   "source": [
    "#learning rate 0.01\n",
    "weights_multi01, cost_history_multi01, min_cost_multi01 = gradientDescentMulti(X1_norm, Y1, [0,0,0], 0.01, 75000) \n",
    "print (\"Minimum cost achieved with learning rate 0.01 is \", min_cost_multi01)"
   ]
  },
  {
   "cell_type": "code",
   "execution_count": 29,
   "metadata": {},
   "outputs": [
    {
     "data": {
      "image/png": "[encoded data removed]",
      "text/plain": [
       "<matplotlib.figure.Figure at 0x114e7e320>"
      ]
     },
     "metadata": {},
     "output_type": "display_data"
    }
   ],
   "source": [
    "plt.plot(cost_history_multi01)\n",
    "plt.xlabel(\"iterations\")\n",
    "plt.ylabel(\"cost\")\n",
    "plt.title(\"Cost plotted with alpha=0.01 and iterations=80000\")\n",
    "plt.show()"
   ]
  },
  {
   "cell_type": "markdown",
   "metadata": {},
   "source": [
    "#### learning rate 0.005"
   ]
  },
  {
   "cell_type": "code",
   "execution_count": 30,
   "metadata": {},
   "outputs": [
    {
     "name": "stdout",
     "output_type": "stream",
     "text": [
      "Minimum cost achieved with learning rate 0.005 is  4086560954.79\n"
     ]
    }
   ],
   "source": [
    "#learning rate 0.005\n",
    "weights_multi005, cost_history_multi005, min_cost_multi005 = gradientDescentMulti(X1_norm, Y1, [0,0,0], 0.005, 100000) \n",
    "print (\"Minimum cost achieved with learning rate 0.005 is \", min_cost_multi005)"
   ]
  },
  {
   "cell_type": "code",
   "execution_count": 31,
   "metadata": {},
   "outputs": [
    {
     "data": {
      "image/png": "[encoded data removed]",
      "text/plain": [
       "<matplotlib.figure.Figure at 0x114f75f98>"
      ]
     },
     "metadata": {},
     "output_type": "display_data"
    }
   ],
   "source": [
    "plt.plot(cost_history_multi005)\n",
    "plt.xlabel(\"iterations\")\n",
    "plt.ylabel(\"cost\")\n",
    "plt.title(\"Cost plotted with alpha=0.005 and iterations=100000\")\n",
    "plt.show()"
   ]
  },
  {
   "cell_type": "markdown",
   "metadata": {},
   "source": [
    "#### learning rate 0.001"
   ]
  },
  {
   "cell_type": "code",
   "execution_count": 32,
   "metadata": {},
   "outputs": [
    {
     "name": "stdout",
     "output_type": "stream",
     "text": [
      "Minimum cost achieved with learning rate 0.001 is  4086560954.79\n"
     ]
    }
   ],
   "source": [
    "#learning rate 0.001\n",
    "weights_multi001, cost_history_multi001, min_cost_multi001 = gradientDescentMulti(X1_norm, Y1, [0,0,0], 0.001, 550000) \n",
    "print (\"Minimum cost achieved with learning rate 0.001 is \", min_cost_multi001)"
   ]
  },
  {
   "cell_type": "code",
   "execution_count": 33,
   "metadata": {},
   "outputs": [
    {
     "data": {
      "image/png": "[encoded data removed]",
      "text/plain": [
       "<matplotlib.figure.Figure at 0x111d3b860>"
      ]
     },
     "metadata": {},
     "output_type": "display_data"
    }
   ],
   "source": [
    "plt.plot(cost_history_multi001)\n",
    "plt.xlabel(\"iterations\")\n",
    "plt.ylabel(\"cost\")\n",
    "plt.title(\"Cost plotted with alpha=0.001 and iterations=550000\")\n",
    "plt.show()"
   ]
  },
  {
   "cell_type": "markdown",
   "metadata": {},
   "source": [
    "#### learning rate 0.0001"
   ]
  },
  {
   "cell_type": "code",
   "execution_count": 35,
   "metadata": {},
   "outputs": [
    {
     "name": "stdout",
     "output_type": "stream",
     "text": [
      "Minimum cost achieved with learning rate 0.0001 is  4086560954.79\n"
     ]
    }
   ],
   "source": [
    "weights_multi0001, cost_history_multi0001, min_cost_multi0001 = gradientDescentMulti(X1_norm, Y1, [0,0,0], 0.0001, \\\n",
    "                                                                                     3500000) \n",
    "print (\"Minimum cost achieved with learning rate 0.0001 is \", min_cost_multi0001)"
   ]
  },
  {
   "cell_type": "code",
   "execution_count": 36,
   "metadata": {},
   "outputs": [
    {
     "data": {
      "image/png": "[encoded data removed]",
      "text/plain": [
       "<matplotlib.figure.Figure at 0x111935668>"
      ]
     },
     "metadata": {},
     "output_type": "display_data"
    }
   ],
   "source": [
    "plt.plot(cost_history_multi0001)\n",
    "plt.xlabel(\"iterations\")\n",
    "plt.ylabel(\"cost\")\n",
    "plt.title(\"Cost plotted with alpha=0.0001 and iterations=550000\")\n",
    "plt.show()"
   ]
  },
  {
   "cell_type": "markdown",
   "metadata": {},
   "source": [
    "### Minimum cost achieved\n"
   ]
  },
  {
   "cell_type": "code",
   "execution_count": 37,
   "metadata": {},
   "outputs": [
    {
     "name": "stdout",
     "output_type": "stream",
     "text": [
      "Minimum cost is achieved using learning rate 0.0001 :  4086560954.79\n"
     ]
    }
   ],
   "source": [
    "min_cost_multi = min(min_cost_multi0001, min_cost_multi001, min_cost_multi01, min_cost_multi005)\n",
    "print (\"Minimum cost is achieved using learning rate 0.0001 : \", min_cost_multi)"
   ]
  },
  {
   "cell_type": "markdown",
   "metadata": {},
   "source": [
    "### Final Weights after Optimization"
   ]
  },
  {
   "cell_type": "code",
   "execution_count": 38,
   "metadata": {},
   "outputs": [
    {
     "name": "stdout",
     "output_type": "stream",
     "text": [
      "The final weights after optimization are:\n",
      "Bias (W0) =  367927.496131\n",
      "Size (W1) =  109447.710932\n",
      "Bedrooms (W2) =  -28290.1619623\n"
     ]
    }
   ],
   "source": [
    "print (\"The final weights after optimization are:\")\n",
    "print (\"Bias (W0) = \", weights_multi0001[0])\n",
    "print (\"Size (W1) = \", weights_multi0001[1])\n",
    "print (\"Bedrooms (W2) = \", weights_multi0001[2])"
   ]
  },
  {
   "cell_type": "markdown",
   "metadata": {},
   "source": [
    "### Root Mean Square Error after optimization"
   ]
  },
  {
   "cell_type": "code",
   "execution_count": 39,
   "metadata": {},
   "outputs": [
    {
     "name": "stdout",
     "output_type": "stream",
     "text": [
      "Root Mean Square Error in House prices after Optimization is:  63926.21492615637\n"
     ]
    }
   ],
   "source": [
    "RMSE_multi = math.sqrt(min_cost_multi)\n",
    "print (\"Root Mean Square Error in House prices after Optimization is: \", RMSE_multi)"
   ]
  },
  {
   "cell_type": "markdown",
   "metadata": {},
   "source": [
    "## 2-1 Linear regression with multiple variables using Matrix"
   ]
  },
  {
   "cell_type": "markdown",
   "metadata": {},
   "source": [
    "### Convert the data2 dataframe to numpy array"
   ]
  },
  {
   "cell_type": "code",
   "execution_count": 40,
   "metadata": {
    "collapsed": true
   },
   "outputs": [],
   "source": [
    "data2_array = np.array(data2)"
   ]
  },
  {
   "cell_type": "markdown",
   "metadata": {},
   "source": [
    "### Split the data into features and output matrix\n",
    "'X_mat' is the list of features(input) and 'Y_mat' is the list of output values"
   ]
  },
  {
   "cell_type": "code",
   "execution_count": 41,
   "metadata": {
    "collapsed": true
   },
   "outputs": [],
   "source": [
    "X_mat = data2_array[::, :2]\n",
    "Y_mat = data2_array[::, 2:]"
   ]
  },
  {
   "cell_type": "markdown",
   "metadata": {},
   "source": [
    "### Normalize the features as they have different scales"
   ]
  },
  {
   "cell_type": "code",
   "execution_count": 42,
   "metadata": {
    "collapsed": true
   },
   "outputs": [],
   "source": [
    "from scipy import stats\n",
    "X_mat_norm = stats.zscore(X_mat)"
   ]
  },
  {
   "cell_type": "code",
   "execution_count": 43,
   "metadata": {
    "collapsed": true
   },
   "outputs": [],
   "source": [
    "bias = np.ones((X_mat_norm.shape[0],X_mat_norm.shape[1]+1))\n",
    "bias[:,1:] = X_mat_norm\n",
    "X_b = bias\n",
    "random.seed(30)\n",
    "weights = np.random.rand(3,1)"
   ]
  },
  {
   "cell_type": "code",
   "execution_count": 44,
   "metadata": {
    "collapsed": true
   },
   "outputs": [],
   "source": [
    "def computeCostMultiMat(X,Y,weights):\n",
    "    m = X.shape[0]\n",
    "    n = X.shape[1]\n",
    "    prediction = np.dot(X, weights)\n",
    "    return (1/m)*((np.square(prediction-Y)).sum(axis=0))"
   ]
  },
  {
   "cell_type": "code",
   "execution_count": 45,
   "metadata": {
    "collapsed": true
   },
   "outputs": [],
   "source": [
    "def gradientDescentMultiMat(X, Y, weights, alpha, iterations):\n",
    "    m = len(Y)  \n",
    "    count = 1\n",
    "    cost_history = []\n",
    "    while(count <= iterations):\n",
    "        prediction = np.dot(X, weights)\n",
    "        cost = prediction - Y\n",
    "        grad = (2/m)*(np.dot(X.transpose(), cost))\n",
    "        weights = weights - (alpha*grad)\n",
    "        cost_history.append(computeCostMultiMat(X, Y, weights)[0])\n",
    "        count = count + 1\n",
    "    min_cost_iter = cost_history.index(min(cost_history)) + 1\n",
    "\n",
    "    return weights, cost_history, min(cost_history)"
   ]
  },
  {
   "cell_type": "markdown",
   "metadata": {},
   "source": [
    "#### learning rate 0.01"
   ]
  },
  {
   "cell_type": "code",
   "execution_count": 46,
   "metadata": {},
   "outputs": [
    {
     "name": "stdout",
     "output_type": "stream",
     "text": [
      "Minimum cost achieved with learning rate 0.01 is  4086560954.79\n"
     ]
    }
   ],
   "source": [
    "weights_multi_mat01, cost_history_multi_mat01, min_cost_multi_mat01 = gradientDescentMultiMat(X_b, Y_mat, weights, \\\n",
    "                                                                                              0.01, 3000)\n",
    "print (\"Minimum cost achieved with learning rate 0.01 is \", min_cost_multi_mat01)"
   ]
  },
  {
   "cell_type": "code",
   "execution_count": 47,
   "metadata": {},
   "outputs": [
    {
     "data": {
      "image/png": "[encoded data removed]",
      "text/plain": [
       "<matplotlib.figure.Figure at 0x1a2ad3a0f0>"
      ]
     },
     "metadata": {},
     "output_type": "display_data"
    }
   ],
   "source": [
    "plt.plot(cost_history_multi_mat01)\n",
    "plt.xlabel(\"iterations\")\n",
    "plt.ylabel(\"cost\")\n",
    "plt.title(\"Cost plotted with alpha=0.01 and iterations=3000\")\n",
    "plt.show()"
   ]
  },
  {
   "cell_type": "markdown",
   "metadata": {},
   "source": [
    "#### learning rate 0.005"
   ]
  },
  {
   "cell_type": "code",
   "execution_count": 48,
   "metadata": {},
   "outputs": [
    {
     "name": "stdout",
     "output_type": "stream",
     "text": [
      "Minimum cost achieved with learning rate 0.005 is  4086560954.79\n"
     ]
    }
   ],
   "source": [
    "weights_multi_mat005, cost_history_multi_mat005, min_cost_multi_mat005 = gradientDescentMultiMat(X_b, Y_mat, weights, \\\n",
    "                                                                                                 0.005, 8000)\n",
    "print (\"Minimum cost achieved with learning rate 0.005 is \", min_cost_multi_mat005)"
   ]
  },
  {
   "cell_type": "code",
   "execution_count": 49,
   "metadata": {},
   "outputs": [
    {
     "data": {
      "image/png": "[encoded data removed]",
      "text/plain": [
       "<matplotlib.figure.Figure at 0x1a2adccf60>"
      ]
     },
     "metadata": {},
     "output_type": "display_data"
    }
   ],
   "source": [
    "plt.plot(cost_history_multi_mat005)\n",
    "plt.xlabel(\"iterations\")\n",
    "plt.ylabel(\"cost\")\n",
    "plt.title(\"Cost plotted with alpha=0.005 and iterations=8000\")\n",
    "plt.show()"
   ]
  },
  {
   "cell_type": "markdown",
   "metadata": {},
   "source": [
    "#### learning rate 0.001"
   ]
  },
  {
   "cell_type": "code",
   "execution_count": 50,
   "metadata": {},
   "outputs": [
    {
     "name": "stdout",
     "output_type": "stream",
     "text": [
      "Minimum cost achieved with learning rate 0.001 is  4086560954.79\n"
     ]
    }
   ],
   "source": [
    "weights_multi_mat001, cost_history_multi_mat001, min_cost_multi_mat001 = gradientDescentMultiMat(X_b, Y_mat, weights, \\\n",
    "                                                                                                 0.001, 30000)\n",
    "print (\"Minimum cost achieved with learning rate 0.001 is \", min_cost_multi_mat001)"
   ]
  },
  {
   "cell_type": "code",
   "execution_count": 51,
   "metadata": {},
   "outputs": [
    {
     "data": {
      "image/png": "[encoded data removed]",
      "text/plain": [
       "<matplotlib.figure.Figure at 0x114f4b048>"
      ]
     },
     "metadata": {},
     "output_type": "display_data"
    }
   ],
   "source": [
    "plt.plot(cost_history_multi_mat001)\n",
    "plt.xlabel(\"iterations\")\n",
    "plt.ylabel(\"cost\")\n",
    "plt.title(\"Cost plotted with alpha=0.001 and iterations=30000\")\n",
    "plt.show()"
   ]
  },
  {
   "cell_type": "markdown",
   "metadata": {},
   "source": [
    "#### learning rate 0.0001\n"
   ]
  },
  {
   "cell_type": "code",
   "execution_count": 52,
   "metadata": {},
   "outputs": [
    {
     "name": "stdout",
     "output_type": "stream",
     "text": [
      "Minimum cost achieved with learning rate 0.0001 is  4086560954.79\n"
     ]
    }
   ],
   "source": [
    "weights_multi_mat0001, cost_history_multi_mat0001, min_cost_multi_mat0001 = gradientDescentMultiMat(X_b, Y_mat, weights, \\\n",
    "                                                                                                    0.0001, 250000)\n",
    "print (\"Minimum cost achieved with learning rate 0.0001 is \", min_cost_multi_mat0001)"
   ]
  },
  {
   "cell_type": "code",
   "execution_count": 53,
   "metadata": {},
   "outputs": [
    {
     "data": {
      "image/png": "[encoded data removed]",
      "text/plain": [
       "<matplotlib.figure.Figure at 0x1120122e8>"
      ]
     },
     "metadata": {},
     "output_type": "display_data"
    }
   ],
   "source": [
    "plt.plot(cost_history_multi_mat0001)\n",
    "plt.xlabel(\"iterations\")\n",
    "plt.ylabel(\"cost\")\n",
    "plt.title(\"Cost plotted with alpha=0.0001 and iterations=250000\")\n",
    "plt.show()"
   ]
  },
  {
   "cell_type": "markdown",
   "metadata": {},
   "source": [
    "### Minimum cost achieved"
   ]
  },
  {
   "cell_type": "code",
   "execution_count": 54,
   "metadata": {},
   "outputs": [
    {
     "name": "stdout",
     "output_type": "stream",
     "text": [
      "Minimum cost is achieved using learning rate 0.01 :  4086560954.79\n"
     ]
    }
   ],
   "source": [
    "min_cost_multi_mat = min(min_cost_multi_mat0001, min_cost_multi_mat001, \\\n",
    "                         min_cost_multi_mat01, min_cost_multi_mat005)\n",
    "print (\"Minimum cost is achieved using learning rate 0.01 : \", min_cost_multi_mat)"
   ]
  },
  {
   "cell_type": "markdown",
   "metadata": {},
   "source": [
    "### Final Weights after Optimization"
   ]
  },
  {
   "cell_type": "code",
   "execution_count": 55,
   "metadata": {},
   "outputs": [
    {
     "name": "stdout",
     "output_type": "stream",
     "text": [
      "The final weights after optimization are:\n",
      "Bias (W0) =  340412.765957\n",
      "Size (W1) =  109447.765519\n",
      "Bedrooms (W2) =  -6578.2767901\n"
     ]
    }
   ],
   "source": [
    "print (\"The final weights after optimization are:\")\n",
    "print (\"Bias (W0) = \", weights_multi_mat01[0][0])\n",
    "print (\"Size (W1) = \", weights_multi_mat01[1][0])\n",
    "print (\"Bedrooms (W2) = \", weights_multi_mat01[2][0])"
   ]
  },
  {
   "cell_type": "markdown",
   "metadata": {},
   "source": [
    "### Root Mean Square Error after optimization"
   ]
  },
  {
   "cell_type": "code",
   "execution_count": 56,
   "metadata": {},
   "outputs": [
    {
     "name": "stdout",
     "output_type": "stream",
     "text": [
      "Root Mean Square Error in House prices after Optimization is:  63926.214926156375\n"
     ]
    }
   ],
   "source": [
    "RMSE_multi_mat = math.sqrt(min_cost_multi_mat)\n",
    "print (\"Root Mean Square Error in House prices after Optimization is: \", RMSE_multi_mat)"
   ]
  },
  {
   "cell_type": "markdown",
   "metadata": {},
   "source": [
    "## 2-2. Linear regression with multiple variables using Normal equation"
   ]
  },
  {
   "cell_type": "markdown",
   "metadata": {},
   "source": [
    "### If the data used is the same normalized data used in the Matrix implementation, the weights, minimum cost and RMSE are same as the matrix implementation"
   ]
  },
  {
   "cell_type": "code",
   "execution_count": 57,
   "metadata": {
    "collapsed": true
   },
   "outputs": [],
   "source": [
    "X_norm_eq = X_b\n",
    "Y_norm_eq = Y_mat"
   ]
  },
  {
   "cell_type": "markdown",
   "metadata": {},
   "source": [
    "### Normal Equation Implementation "
   ]
  },
  {
   "cell_type": "code",
   "execution_count": 58,
   "metadata": {
    "collapsed": true
   },
   "outputs": [],
   "source": [
    "optimized_weights_norm = (((np.linalg.inv(X_norm_eq.transpose().dot(X_norm_eq))).dot(X_norm_eq.transpose()))).dot(Y_norm_eq)"
   ]
  },
  {
   "cell_type": "markdown",
   "metadata": {},
   "source": [
    "### Optimized Weights"
   ]
  },
  {
   "cell_type": "code",
   "execution_count": 59,
   "metadata": {},
   "outputs": [
    {
     "name": "stdout",
     "output_type": "stream",
     "text": [
      "The final weights after optimization are:\n",
      "Bias (W0) =  340412.765957\n",
      "Size (W1) =  109447.765519\n",
      "Bedrooms (W2) =  -6578.27679028\n"
     ]
    }
   ],
   "source": [
    "print (\"The final weights after optimization are:\")\n",
    "print (\"Bias (W0) = \", optimized_weights_norm[0][0])\n",
    "print (\"Size (W1) = \", optimized_weights_norm[1][0])\n",
    "print (\"Bedrooms (W2) = \", optimized_weights_norm[2][0])"
   ]
  },
  {
   "cell_type": "markdown",
   "metadata": {},
   "source": [
    "### Minimum Cost Achieved"
   ]
  },
  {
   "cell_type": "code",
   "execution_count": 60,
   "metadata": {},
   "outputs": [
    {
     "name": "stdout",
     "output_type": "stream",
     "text": [
      "Minimum cost is achieved using Normal Equation with normalised data :  4086560954.79\n"
     ]
    }
   ],
   "source": [
    "min_cost_norm_eq = computeCostMultiMat(X_norm_eq, Y_norm_eq, optimized_weights_norm)\n",
    "print (\"Minimum cost is achieved using Normal Equation with normalised data : \", min_cost_norm_eq[0])"
   ]
  },
  {
   "cell_type": "markdown",
   "metadata": {},
   "source": [
    "### Root Mean Square Error after Optimization"
   ]
  },
  {
   "cell_type": "code",
   "execution_count": 61,
   "metadata": {},
   "outputs": [
    {
     "name": "stdout",
     "output_type": "stream",
     "text": [
      "Root Mean Square Error in House prices after Optimization is:  63926.2149261564\n"
     ]
    }
   ],
   "source": [
    "RMSE_norm_eq = math.sqrt(min_cost_norm_eq)\n",
    "print (\"Root Mean Square Error in House prices after Optimization is: \", RMSE_norm_eq)"
   ]
  },
  {
   "cell_type": "markdown",
   "metadata": {},
   "source": [
    "### If the data used is not normalized, the weights are different as the scale of data is different but the minimum cost and RMSE are  same as the matrix implementation."
   ]
  },
  {
   "cell_type": "code",
   "execution_count": 62,
   "metadata": {
    "collapsed": true
   },
   "outputs": [],
   "source": [
    "bias_eq = np.ones((X_mat.shape[0],X_mat.shape[1]+1))\n",
    "bias_eq[:,1:] = X_mat\n",
    "X_b_eq = bias_eq\n",
    "random.seed(30)\n",
    "weights = np.random.rand(3,1)\n",
    "\n",
    "X_eq = X_b_eq\n",
    "Y_eq = Y_mat"
   ]
  },
  {
   "cell_type": "markdown",
   "metadata": {},
   "source": [
    "### Normal Equation Implementation"
   ]
  },
  {
   "cell_type": "code",
   "execution_count": 63,
   "metadata": {
    "collapsed": true
   },
   "outputs": [],
   "source": [
    "optimized_weights_eq = (((np.linalg.inv(X_eq.transpose().dot(X_eq))).dot(X_eq.transpose()))).dot(Y_eq)"
   ]
  },
  {
   "cell_type": "markdown",
   "metadata": {},
   "source": [
    "### Optimized Weights"
   ]
  },
  {
   "cell_type": "code",
   "execution_count": 64,
   "metadata": {},
   "outputs": [
    {
     "name": "stdout",
     "output_type": "stream",
     "text": [
      "The final weights after optimization are:\n",
      "Bias (W0) =  89597.765961\n",
      "Size (W1) =  139.21063465\n",
      "Bedrooms (W2) =  -8737.91542019\n"
     ]
    }
   ],
   "source": [
    "print (\"The final weights after optimization are:\")\n",
    "print (\"Bias (W0) = \", optimized_weights_eq[0][0])\n",
    "print (\"Size (W1) = \", optimized_weights_eq[1][0])\n",
    "print (\"Bedrooms (W2) = \", optimized_weights_eq[2][0])"
   ]
  },
  {
   "cell_type": "markdown",
   "metadata": {},
   "source": [
    "### Minimum Cost Achieved"
   ]
  },
  {
   "cell_type": "code",
   "execution_count": 65,
   "metadata": {},
   "outputs": [
    {
     "name": "stdout",
     "output_type": "stream",
     "text": [
      "Minimum cost is achieved using Normal Equation without normalised data :  4086560954.79\n"
     ]
    }
   ],
   "source": [
    "min_cost_eq = computeCostMultiMat(X_eq, Y_eq, optimized_weights_eq)\n",
    "print (\"Minimum cost is achieved using Normal Equation without normalised data : \", min_cost_eq[0])"
   ]
  },
  {
   "cell_type": "markdown",
   "metadata": {},
   "source": [
    "### Root Mean Square Error after optimization"
   ]
  },
  {
   "cell_type": "code",
   "execution_count": 66,
   "metadata": {},
   "outputs": [
    {
     "name": "stdout",
     "output_type": "stream",
     "text": [
      "Root Mean Square Error in House prices after Optimization is:  63926.214926156405\n"
     ]
    }
   ],
   "source": [
    "RMSE_eq = math.sqrt(min_cost_eq)\n",
    "print (\"Root Mean Square Error in House prices after Optimization is: \", RMSE_eq)"
   ]
  },
  {
   "cell_type": "markdown",
   "metadata": {},
   "source": [
    "## 3- Linear regression with multiple variables"
   ]
  },
  {
   "cell_type": "markdown",
   "metadata": {},
   "source": [
    "## 3-1. Linear regression with multiple variables using matrix"
   ]
  },
  {
   "cell_type": "code",
   "execution_count": 67,
   "metadata": {
    "collapsed": true
   },
   "outputs": [],
   "source": [
    "data_cal = pd.read_csv('./ex1data3.csv')"
   ]
  },
  {
   "cell_type": "markdown",
   "metadata": {},
   "source": [
    "### Convert the data2 dataframe to numpy array"
   ]
  },
  {
   "cell_type": "code",
   "execution_count": 68,
   "metadata": {},
   "outputs": [
    {
     "data": {
      "text/plain": [
       "(20640, 10)"
      ]
     },
     "execution_count": 68,
     "metadata": {},
     "output_type": "execute_result"
    }
   ],
   "source": [
    "data_cal_array = np.array(data_cal)\n",
    "data_cal_array.shape"
   ]
  },
  {
   "cell_type": "markdown",
   "metadata": {},
   "source": [
    "### Split the data into features and output matrix\n",
    "'X_mat_cal' is the list of features(input) and 'Y_mat_cal' is the list of output values"
   ]
  },
  {
   "cell_type": "code",
   "execution_count": 69,
   "metadata": {
    "collapsed": true
   },
   "outputs": [],
   "source": [
    "X_mat_cal = data_cal_array[::, 1:9]\n",
    "Y_mat_cal = data_cal_array[::, 9:]"
   ]
  },
  {
   "cell_type": "markdown",
   "metadata": {},
   "source": [
    "### Normalize the features as they have different scales"
   ]
  },
  {
   "cell_type": "code",
   "execution_count": 70,
   "metadata": {
    "collapsed": true
   },
   "outputs": [],
   "source": [
    "X_mat_cal_norm = stats.zscore(X_mat_cal)"
   ]
  },
  {
   "cell_type": "code",
   "execution_count": 71,
   "metadata": {
    "collapsed": true
   },
   "outputs": [],
   "source": [
    "bias_cal = np.ones((X_mat_cal_norm.shape[0],X_mat_cal_norm.shape[1]+1))\n",
    "bias_cal[:,1:] = X_mat_cal_norm\n",
    "X_cal_b = bias_cal\n",
    "random.seed(30)\n",
    "weights_cal = np.random.rand(X_cal_b.shape[1],1)"
   ]
  },
  {
   "cell_type": "code",
   "execution_count": 72,
   "metadata": {
    "collapsed": true
   },
   "outputs": [],
   "source": [
    "def computeCostMultiMat(X,Y,weights):\n",
    "    m = X.shape[0]\n",
    "    n = X.shape[1]\n",
    "    prediction = np.dot(X, weights)\n",
    "    return (1/(m))*((np.square(prediction-Y)).sum(axis=0))"
   ]
  },
  {
   "cell_type": "code",
   "execution_count": 73,
   "metadata": {
    "collapsed": true
   },
   "outputs": [],
   "source": [
    "def gradientDescentMultiMat(X, Y, weights, alpha, iterations):\n",
    "    m = len(Y)  \n",
    "    count = 1\n",
    "    cost_history = []\n",
    "    while(count <= iterations):\n",
    "        prediction = np.dot(X, weights)\n",
    "        cost = prediction - Y\n",
    "        grad = (2/m)*(np.dot(X.transpose(), cost))\n",
    "        weights = weights - (alpha*grad)\n",
    "        cost_history.append(computeCostMultiMat(X, Y, weights)[0])\n",
    "        count = count + 1\n",
    "    min_cost_iter = cost_history.index(min(cost_history)) + 1\n",
    "    \n",
    "    return weights, cost_history, min(cost_history)"
   ]
  },
  {
   "cell_type": "markdown",
   "metadata": {},
   "source": [
    "#### learning rate 0.01"
   ]
  },
  {
   "cell_type": "code",
   "execution_count": 74,
   "metadata": {},
   "outputs": [
    {
     "name": "stdout",
     "output_type": "stream",
     "text": [
      "Minimum cost achieved with learning rate 0.01 is  0.524320986185\n"
     ]
    }
   ],
   "source": [
    "weights_cal01, cost_history_cal01, min_cost_cal01 = gradientDescentMultiMat(X_cal_b, Y_mat_cal, weights_cal, 0.01, 25000)\n",
    "print (\"Minimum cost achieved with learning rate 0.01 is \", min_cost_cal01)"
   ]
  },
  {
   "cell_type": "code",
   "execution_count": 75,
   "metadata": {},
   "outputs": [
    {
     "data": {
      "image/png": "[encoded data removed]",
      "text/plain": [
       "<matplotlib.figure.Figure at 0x111d51978>"
      ]
     },
     "metadata": {},
     "output_type": "display_data"
    }
   ],
   "source": [
    "plt.plot(cost_history_cal01)\n",
    "plt.xlabel(\"iterations\")\n",
    "plt.ylabel(\"cost\")\n",
    "plt.title(\"Cost plotted with alpha=0.01 and iterations=25000\")\n",
    "plt.show()"
   ]
  },
  {
   "cell_type": "markdown",
   "metadata": {},
   "source": [
    "#### learning rate 0.005"
   ]
  },
  {
   "cell_type": "code",
   "execution_count": 76,
   "metadata": {},
   "outputs": [
    {
     "name": "stdout",
     "output_type": "stream",
     "text": [
      "Minimum cost achieved with learning rate 0.01 is  0.524320986185\n"
     ]
    }
   ],
   "source": [
    "weights_cal005, cost_history_cal005, min_cost_cal005 = gradientDescentMultiMat(X_cal_b, Y_mat_cal, weights_cal, \\\n",
    "                                                                               0.005, 45000)\n",
    "print (\"Minimum cost achieved with learning rate 0.01 is \", min_cost_cal005)"
   ]
  },
  {
   "cell_type": "code",
   "execution_count": 77,
   "metadata": {},
   "outputs": [
    {
     "data": {
      "image/png": "[encoded data removed]",
      "text/plain": [
       "<matplotlib.figure.Figure at 0x114df5be0>"
      ]
     },
     "metadata": {},
     "output_type": "display_data"
    }
   ],
   "source": [
    "plt.plot(cost_history_cal005)\n",
    "plt.xlabel(\"iterations\")\n",
    "plt.ylabel(\"cost\")\n",
    "plt.title(\"Cost plotted with alpha=0.005 and iterations=45000\")\n",
    "plt.show()"
   ]
  },
  {
   "cell_type": "markdown",
   "metadata": {},
   "source": [
    "#### learning rate 0.001\n",
    "The minimum cost with this learning rate is achieved at iteration number 195073."
   ]
  },
  {
   "cell_type": "code",
   "execution_count": 78,
   "metadata": {},
   "outputs": [
    {
     "name": "stdout",
     "output_type": "stream",
     "text": [
      "Minimum cost achieved with learning rate 0.001 is  0.524320986185\n"
     ]
    }
   ],
   "source": [
    "weights_cal001, cost_history_cal001, min_cost_cal001 = gradientDescentMultiMat(X_cal_b, Y_mat_cal, weights_cal, \\\n",
    "                                                                               0.001, 250000)\n",
    "print (\"Minimum cost achieved with learning rate 0.001 is \", min_cost_cal001)"
   ]
  },
  {
   "cell_type": "code",
   "execution_count": 79,
   "metadata": {},
   "outputs": [
    {
     "data": {
      "image/png": "[encoded data removed]",
      "text/plain": [
       "<matplotlib.figure.Figure at 0x116796e10>"
      ]
     },
     "metadata": {},
     "output_type": "display_data"
    }
   ],
   "source": [
    "plt.plot(cost_history_cal001)\n",
    "plt.xlabel(\"iterations\")\n",
    "plt.ylabel(\"cost\")\n",
    "plt.title(\"Cost plotted with alpha=0.001 and iterations=250000\")\n",
    "plt.show()"
   ]
  },
  {
   "cell_type": "markdown",
   "metadata": {},
   "source": [
    "#### learning rate 0.0001"
   ]
  },
  {
   "cell_type": "code",
   "execution_count": 80,
   "metadata": {},
   "outputs": [
    {
     "name": "stdout",
     "output_type": "stream",
     "text": [
      "Minimum cost achieved with learning rate 0.0001 is  0.524320986185\n"
     ]
    }
   ],
   "source": [
    "weights_cal0001, cost_history_cal0001, min_cost_cal0001 = gradientDescentMultiMat(X_cal_b, Y_mat_cal, weights_cal, \\\n",
    "                                                                               0.0001, 2400000)\n",
    "print (\"Minimum cost achieved with learning rate 0.0001 is \", min_cost_cal0001)"
   ]
  },
  {
   "cell_type": "code",
   "execution_count": 81,
   "metadata": {},
   "outputs": [
    {
     "data": {
      "image/png": "[encoded data removed]",
      "text/plain": [
       "<matplotlib.figure.Figure at 0x11fe3c828>"
      ]
     },
     "metadata": {},
     "output_type": "display_data"
    }
   ],
   "source": [
    "plt.plot(cost_history_cal0001)\n",
    "plt.xlabel(\"iterations\")\n",
    "plt.ylabel(\"cost\")\n",
    "plt.title(\"Cost plotted with alpha=0.0001 and iterations=2400000\")\n",
    "plt.show()"
   ]
  },
  {
   "cell_type": "markdown",
   "metadata": {},
   "source": [
    "### Minimum cost achieved"
   ]
  },
  {
   "cell_type": "code",
   "execution_count": 82,
   "metadata": {},
   "outputs": [
    {
     "name": "stdout",
     "output_type": "stream",
     "text": [
      "Minimum cost is achieved using learning rate 0.0001 :  0.524320986185\n"
     ]
    }
   ],
   "source": [
    "min_cost_cal = min(min_cost_cal0001, min_cost_cal001, \\\n",
    "                         min_cost_cal01, min_cost_cal005)\n",
    "print (\"Minimum cost is achieved using learning rate 0.0001 : \", min_cost_cal)"
   ]
  },
  {
   "cell_type": "markdown",
   "metadata": {},
   "source": [
    "### Final Weights after Optimization"
   ]
  },
  {
   "cell_type": "code",
   "execution_count": 83,
   "metadata": {},
   "outputs": [
    {
     "name": "stdout",
     "output_type": "stream",
     "text": [
      "The final weights after optimization are:\n",
      "W0 (intercept) =  2.06855816909\n",
      "W1 =  0.829619304364\n",
      "W2 =  0.118751651228\n",
      "W3 =  -0.265526879665\n",
      "W4 =  0.305696229935\n",
      "W5 =  -0.00450300130808\n",
      "W6 =  -0.0393262669813\n",
      "W7 =  -0.899885654223\n",
      "W8 =  -0.870541002154\n"
     ]
    }
   ],
   "source": [
    "print (\"The final weights after optimization are:\")\n",
    "print (\"W0 (intercept) = \", weights_cal0001[0][0])\n",
    "print (\"W1 = \", weights_cal0001[1][0])\n",
    "print (\"W2 = \", weights_cal0001[2][0])\n",
    "print (\"W3 = \", weights_cal0001[3][0])\n",
    "print (\"W4 = \", weights_cal0001[4][0])\n",
    "print (\"W5 = \", weights_cal0001[5][0])\n",
    "print (\"W6 = \", weights_cal0001[6][0])\n",
    "print (\"W7 = \", weights_cal0001[7][0])\n",
    "print (\"W8 = \", weights_cal0001[8][0])"
   ]
  },
  {
   "cell_type": "markdown",
   "metadata": {},
   "source": [
    "### Root Mean Square Error after optimization"
   ]
  },
  {
   "cell_type": "code",
   "execution_count": 84,
   "metadata": {},
   "outputs": [
    {
     "name": "stdout",
     "output_type": "stream",
     "text": [
      "Root Mean Square Error in House prices after Optimization is:  0.7241001216576542\n"
     ]
    }
   ],
   "source": [
    "RMSE_cal = math.sqrt(min_cost_cal)\n",
    "print (\"Root Mean Square Error in House prices after Optimization is: \", RMSE_cal)"
   ]
  },
  {
   "cell_type": "markdown",
   "metadata": {},
   "source": [
    "## 3-2. Linear regression with multiple variables using Normal equation"
   ]
  },
  {
   "cell_type": "markdown",
   "metadata": {},
   "source": [
    "### If the data used is the same normalized data used in the Matrix implementation, the weights, minimum cost and RMSE are same as the matrix implementation"
   ]
  },
  {
   "cell_type": "code",
   "execution_count": 85,
   "metadata": {
    "collapsed": true
   },
   "outputs": [],
   "source": [
    "X_norm_cal = X_cal_b\n",
    "Y_norm_cal = Y_mat_cal"
   ]
  },
  {
   "cell_type": "markdown",
   "metadata": {},
   "source": [
    "### Optimized Weights"
   ]
  },
  {
   "cell_type": "code",
   "execution_count": 86,
   "metadata": {
    "collapsed": true
   },
   "outputs": [],
   "source": [
    "optimized_weights_norm_cal = (((np.linalg.inv(X_norm_cal.transpose().dot(X_norm_cal))).dot(X_norm_cal.transpose()))).dot(Y_norm_cal)"
   ]
  },
  {
   "cell_type": "code",
   "execution_count": 87,
   "metadata": {},
   "outputs": [
    {
     "name": "stdout",
     "output_type": "stream",
     "text": [
      "The final weights after optimization are:\n",
      "W0 (intercept) =  2.06855816909\n",
      "W1 =  0.82961930428\n",
      "W2 =  0.118751651212\n",
      "W3 =  -0.265526879506\n",
      "W4 =  0.305696229804\n",
      "W5 =  -0.00450300131264\n",
      "W6 =  -0.0393262669782\n",
      "W7 =  -0.899885654415\n",
      "W8 =  -0.870541002336\n"
     ]
    }
   ],
   "source": [
    "print (\"The final weights after optimization are:\")\n",
    "print (\"W0 (intercept) = \", optimized_weights_norm_cal[0][0])\n",
    "print (\"W1 = \", optimized_weights_norm_cal[1][0])\n",
    "print (\"W2 = \", optimized_weights_norm_cal[2][0])\n",
    "print (\"W3 = \", optimized_weights_norm_cal[3][0])\n",
    "print (\"W4 = \", optimized_weights_norm_cal[4][0])\n",
    "print (\"W5 = \", optimized_weights_norm_cal[5][0])\n",
    "print (\"W6 = \", optimized_weights_norm_cal[6][0])\n",
    "print (\"W7 = \", optimized_weights_norm_cal[7][0])\n",
    "print (\"W8 = \", optimized_weights_norm_cal[8][0])"
   ]
  },
  {
   "cell_type": "markdown",
   "metadata": {},
   "source": [
    "### Minimum Cost Achieved"
   ]
  },
  {
   "cell_type": "code",
   "execution_count": 88,
   "metadata": {},
   "outputs": [
    {
     "name": "stdout",
     "output_type": "stream",
     "text": [
      "Minimum cost is achieved using Normal Equation with normalised data :  0.524320986185\n"
     ]
    }
   ],
   "source": [
    "min_cost_norm_eq_cal = computeCostMultiMat(X_norm_cal, Y_norm_cal, optimized_weights_norm_cal)\n",
    "print (\"Minimum cost is achieved using Normal Equation with normalised data : \", min_cost_norm_eq_cal[0])"
   ]
  },
  {
   "cell_type": "markdown",
   "metadata": {},
   "source": [
    "### Root Mean Square Error after optimization"
   ]
  },
  {
   "cell_type": "code",
   "execution_count": 89,
   "metadata": {},
   "outputs": [
    {
     "name": "stdout",
     "output_type": "stream",
     "text": [
      "Root Mean Square Error in House prices after Optimization is:  0.7241001216576544\n"
     ]
    }
   ],
   "source": [
    "RMSE_norm_eq_cal = math.sqrt(min_cost_norm_eq_cal)\n",
    "print (\"Root Mean Square Error in House prices after Optimization is: \", RMSE_norm_eq_cal)"
   ]
  },
  {
   "cell_type": "markdown",
   "metadata": {},
   "source": [
    "### If the data used is not normalized, the weights are different as the scale of data is different but the minimum cost and RMSE are  same as the matrix implementation."
   ]
  },
  {
   "cell_type": "code",
   "execution_count": 90,
   "metadata": {
    "collapsed": true
   },
   "outputs": [],
   "source": [
    "bias_cal_eq = np.ones((X_mat_cal.shape[0],X_mat_cal.shape[1]+1))\n",
    "bias_cal_eq[:,1:] = X_mat_cal\n",
    "X_cal_b_eq = bias_cal_eq\n",
    "random.seed(30)\n",
    "weights_cal = np.random.rand(X_cal_b_eq.shape[1],1)\n",
    "\n",
    "X_eq_cal = X_cal_b_eq\n",
    "Y_eq_cal = Y_mat_cal"
   ]
  },
  {
   "cell_type": "markdown",
   "metadata": {},
   "source": [
    "### Normal Equation Implementation"
   ]
  },
  {
   "cell_type": "code",
   "execution_count": 91,
   "metadata": {
    "collapsed": true
   },
   "outputs": [],
   "source": [
    "optimized_weights_eq_cal = (((np.linalg.inv(X_eq_cal.transpose().dot(X_eq_cal))).dot(X_eq_cal.transpose()))).dot(Y_eq_cal)"
   ]
  },
  {
   "cell_type": "markdown",
   "metadata": {},
   "source": [
    "### Optimized Weights"
   ]
  },
  {
   "cell_type": "code",
   "execution_count": 92,
   "metadata": {},
   "outputs": [
    {
     "name": "stdout",
     "output_type": "stream",
     "text": [
      "The final weights after optimization are:\n",
      "W0 (intercept) =  -36.9419202059\n",
      "W1 =  0.436693293137\n",
      "W2 =  0.00943577803346\n",
      "W3 =  -0.107322041394\n",
      "W4 =  0.645065693532\n",
      "W5 =  -3.97638942069e-06\n",
      "W6 =  -0.00378654265501\n",
      "W7 =  -0.421314377514\n",
      "W8 =  -0.43451375466\n"
     ]
    }
   ],
   "source": [
    "print (\"The final weights after optimization are:\")\n",
    "print (\"W0 (intercept) = \", optimized_weights_eq_cal[0][0])\n",
    "print (\"W1 = \", optimized_weights_eq_cal[1][0])\n",
    "print (\"W2 = \", optimized_weights_eq_cal[2][0])\n",
    "print (\"W3 = \", optimized_weights_eq_cal[3][0])\n",
    "print (\"W4 = \", optimized_weights_eq_cal[4][0])\n",
    "print (\"W5 = \", optimized_weights_eq_cal[5][0])\n",
    "print (\"W6 = \", optimized_weights_eq_cal[6][0])\n",
    "print (\"W7 = \", optimized_weights_eq_cal[7][0])\n",
    "print (\"W8 = \", optimized_weights_eq_cal[8][0])\n"
   ]
  },
  {
   "cell_type": "markdown",
   "metadata": {},
   "source": [
    "### Minimum Cost Achieved"
   ]
  },
  {
   "cell_type": "code",
   "execution_count": 93,
   "metadata": {},
   "outputs": [
    {
     "name": "stdout",
     "output_type": "stream",
     "text": [
      "Minimum cost is achieved using Normal Equation without normalised data :  0.524320986185\n"
     ]
    }
   ],
   "source": [
    "min_cost_eq_cal = computeCostMultiMat(X_eq_cal, Y_eq_cal, optimized_weights_eq_cal)\n",
    "print (\"Minimum cost is achieved using Normal Equation without normalised data : \", min_cost_eq_cal[0])"
   ]
  },
  {
   "cell_type": "markdown",
   "metadata": {},
   "source": [
    "### Root Mean Square Error after optimization\n",
    "\n"
   ]
  },
  {
   "cell_type": "code",
   "execution_count": 94,
   "metadata": {},
   "outputs": [
    {
     "name": "stdout",
     "output_type": "stream",
     "text": [
      "Root Mean Square Error in House prices after Optimization is:  0.7241001216576544\n"
     ]
    }
   ],
   "source": [
    "RMSE_eq_cal = math.sqrt(min_cost_eq_cal)\n",
    "print (\"Root Mean Square Error in House prices after Optimization is: \", RMSE_eq_cal)"
   ]
  },
  {
   "cell_type": "markdown",
   "metadata": {},
   "source": [
    "## 3-3. Linear regression with multiple variables using scikit-learn linear regression model"
   ]
  },
  {
   "cell_type": "markdown",
   "metadata": {},
   "source": [
    "### Fit the Linear Regression Model"
   ]
  },
  {
   "cell_type": "code",
   "execution_count": 95,
   "metadata": {},
   "outputs": [
    {
     "name": "stderr",
     "output_type": "stream",
     "text": [
      "/Users/manika/anaconda3/lib/python3.6/site-packages/sklearn/cross_validation.py:41: DeprecationWarning: This module was deprecated in version 0.18 in favor of the model_selection module into which all the refactored classes and functions are moved. Also note that the interface of the new CV iterators are different from that of this module. This module will be removed in 0.20.\n",
      "  \"This module will be removed in 0.20.\", DeprecationWarning)\n"
     ]
    },
    {
     "data": {
      "text/plain": [
       "LinearRegression(copy_X=True, fit_intercept=True, n_jobs=1, normalize=False)"
      ]
     },
     "execution_count": 95,
     "metadata": {},
     "output_type": "execute_result"
    }
   ],
   "source": [
    "from sklearn.linear_model import LinearRegression\n",
    "from sklearn.cross_validation import cross_val_score, cross_val_predict\n",
    "from sklearn.metrics import mean_squared_error\n",
    "\n",
    "X_sk = X_mat_cal_norm\n",
    "Y_sk = Y_mat_cal\n",
    "\n",
    "regr = LinearRegression()\n",
    "regr.fit(X_sk, Y_sk)"
   ]
  },
  {
   "cell_type": "markdown",
   "metadata": {},
   "source": [
    "### Optimized Weights"
   ]
  },
  {
   "cell_type": "code",
   "execution_count": 96,
   "metadata": {},
   "outputs": [
    {
     "name": "stdout",
     "output_type": "stream",
     "text": [
      "The final weights after optimization are:\n",
      "W0 (Intercept) =  2.06855816909\n",
      "W1 =  0.82961930428\n",
      "W2 =  0.118751651212\n",
      "W3 =  -0.265526879506\n",
      "W4 =  0.305696229804\n",
      "W5 =  -0.00450300131264\n",
      "W6 =  -0.0393262669782\n",
      "W7 =  -0.899885654415\n",
      "W8 =  -0.870541002336\n"
     ]
    }
   ],
   "source": [
    "print (\"The final weights after optimization are:\")\n",
    "print (\"W0 (Intercept) = \", regr.intercept_[0])\n",
    "print (\"W1 = \", regr.coef_[0][0])\n",
    "print (\"W2 = \", regr.coef_[0][1])\n",
    "print (\"W3 = \", regr.coef_[0][2])\n",
    "print (\"W4 = \", regr.coef_[0][3])\n",
    "print (\"W5 = \", regr.coef_[0][4])\n",
    "print (\"W6 = \", regr.coef_[0][5])\n",
    "print (\"W7 = \", regr.coef_[0][6])\n",
    "print (\"W8 = \", regr.coef_[0][7])"
   ]
  },
  {
   "cell_type": "markdown",
   "metadata": {},
   "source": [
    "### Minimum Cost"
   ]
  },
  {
   "cell_type": "code",
   "execution_count": 97,
   "metadata": {},
   "outputs": [
    {
     "name": "stdout",
     "output_type": "stream",
     "text": [
      "Minimum cost achieved :  0.524320986185\n"
     ]
    }
   ],
   "source": [
    "prediction = regr.predict(X_sk)\n",
    "min_cost_sk = mean_squared_error(prediction, Y_sk)\n",
    "print (\"Minimum cost achieved : \", min_cost_sk)"
   ]
  },
  {
   "cell_type": "markdown",
   "metadata": {},
   "source": [
    "### Root Mean Square Error after optimization"
   ]
  },
  {
   "cell_type": "code",
   "execution_count": 98,
   "metadata": {},
   "outputs": [
    {
     "name": "stdout",
     "output_type": "stream",
     "text": [
      "Root Mean Square Error in House prices after Optimization is:  0.7241001216576544\n"
     ]
    }
   ],
   "source": [
    "RMSE_sk = math.sqrt(min_cost_sk)\n",
    "print (\"Root Mean Square Error in House prices after Optimization is: \", RMSE_sk)"
   ]
  },
  {
   "cell_type": "markdown",
   "metadata": {},
   "source": [
    "## 3-4. Linear regression with multiple variables using TensorFlow"
   ]
  },
  {
   "cell_type": "code",
   "execution_count": 99,
   "metadata": {},
   "outputs": [
    {
     "name": "stderr",
     "output_type": "stream",
     "text": [
      "/Users/manika/anaconda3/lib/python3.6/importlib/_bootstrap.py:205: RuntimeWarning: compiletime version 3.5 of module 'tensorflow.python.framework.fast_tensor_util' does not match runtime version 3.6\n",
      "  return f(*args, **kwds)\n"
     ]
    }
   ],
   "source": [
    "import tensorflow as tf"
   ]
  },
  {
   "cell_type": "code",
   "execution_count": 100,
   "metadata": {
    "collapsed": true
   },
   "outputs": [],
   "source": [
    "X_tf = X_cal_b\n",
    "Y_tf = Y_mat_cal"
   ]
  },
  {
   "cell_type": "code",
   "execution_count": 101,
   "metadata": {
    "collapsed": true
   },
   "outputs": [],
   "source": [
    "X = tf.placeholder(tf.float32,[None,X_tf.shape[1]])\n",
    "Y = tf.placeholder(tf.float32,[None,1])\n",
    "W = tf.Variable(tf.ones([X_tf.shape[1],1]))\n",
    "\n",
    "prediction = tf.matmul(X, W)\n",
    "cost = tf.reduce_mean(tf.square(prediction - Y))"
   ]
  },
  {
   "cell_type": "code",
   "execution_count": 102,
   "metadata": {
    "collapsed": true
   },
   "outputs": [],
   "source": [
    "def model_run(X_tf, Y_tf, prediction, cost, alpha, epochs):\n",
    "    cost_history = []\n",
    "    training = tf.train.GradientDescentOptimizer(alpha).minimize(cost)\n",
    "    with tf.Session() as sess:\n",
    "        sess.run(tf.global_variables_initializer())\n",
    "        for epoch in range(epochs):\n",
    "            sess.run(training,feed_dict={X:X_tf,Y:Y_tf})\n",
    "            cost_history.append(sess.run(cost,feed_dict={X: X_tf,Y: Y_tf}))\n",
    "        \n",
    "        pred = sess.run(prediction, feed_dict={X: X_tf})\n",
    "        RMSE_tf = tf.sqrt(tf.reduce_mean(tf.square(pred - Y_tf)))\n",
    "        rmse = math.sqrt(sess.run(RMSE_tf))\n",
    "        \n",
    "    return rmse, cost_history"
   ]
  },
  {
   "cell_type": "markdown",
   "metadata": {},
   "source": [
    "#### learning rate 0.01"
   ]
  },
  {
   "cell_type": "code",
   "execution_count": 103,
   "metadata": {},
   "outputs": [
    {
     "name": "stdout",
     "output_type": "stream",
     "text": [
      "Root Mean Square Error with learning rate 0.01:  0.8509407268162384\n"
     ]
    }
   ],
   "source": [
    "RMSE_tf01, cost_history_tf01 = model_run(X_tf, Y_tf, prediction, cost, 0.01, 15000)\n",
    "print (\"Root Mean Square Error with learning rate 0.01: \", RMSE_tf01)"
   ]
  },
  {
   "cell_type": "markdown",
   "metadata": {},
   "source": [
    "#### learning rate 0.005"
   ]
  },
  {
   "cell_type": "code",
   "execution_count": 104,
   "metadata": {},
   "outputs": [
    {
     "name": "stdout",
     "output_type": "stream",
     "text": [
      "Root Mean Square Error with learning rate 0.005:  0.8509473453820653\n"
     ]
    }
   ],
   "source": [
    "RMSE_tf005, cost_history_tf005 = model_run(X_tf, Y_tf, prediction, cost, 0.005, 10000)\n",
    "print (\"Root Mean Square Error with learning rate 0.005: \", RMSE_tf005)"
   ]
  },
  {
   "cell_type": "markdown",
   "metadata": {},
   "source": [
    "#### learning rate 0.001"
   ]
  },
  {
   "cell_type": "code",
   "execution_count": 105,
   "metadata": {},
   "outputs": [
    {
     "name": "stdout",
     "output_type": "stream",
     "text": [
      "Root Mean Square Error with learning rate 0.001:  0.8509474022000362\n"
     ]
    }
   ],
   "source": [
    "RMSE_tf001, cost_history_tf001 = model_run(X_tf, Y_tf, prediction, cost, 0.001, 50000)\n",
    "print (\"Root Mean Square Error with learning rate 0.001: \", RMSE_tf001) "
   ]
  },
  {
   "cell_type": "markdown",
   "metadata": {},
   "source": [
    "#### learning rate 0.0001"
   ]
  },
  {
   "cell_type": "code",
   "execution_count": 111,
   "metadata": {},
   "outputs": [
    {
     "name": "stdout",
     "output_type": "stream",
     "text": [
      "Root Mean Square Error with learning rate 0.0001:  0.8509414809674424\n"
     ]
    }
   ],
   "source": [
    "RMSE_tf0001, cost_history_tf0001 = model_run(X_tf, Y_tf, prediction, cost, 0.0001, 1000000)\n",
    "print (\"Root Mean Square Error with learning rate 0.0001: \", RMSE_tf0001) "
   ]
  },
  {
   "cell_type": "markdown",
   "metadata": {},
   "source": [
    "### Minimum Cost achieved"
   ]
  },
  {
   "cell_type": "code",
   "execution_count": 113,
   "metadata": {},
   "outputs": [
    {
     "name": "stdout",
     "output_type": "stream",
     "text": [
      "Minimum cost achieved :  0.724101404031064\n"
     ]
    }
   ],
   "source": [
    "print (\"Minimum cost achieved : \", RMSE_tf0001**2)"
   ]
  },
  {
   "cell_type": "markdown",
   "metadata": {},
   "source": [
    "### Root Mean Square Error after Optimization"
   ]
  },
  {
   "cell_type": "code",
   "execution_count": 114,
   "metadata": {},
   "outputs": [
    {
     "name": "stdout",
     "output_type": "stream",
     "text": [
      "Root Mean Square Error with learning rate 0.0001:  0.8509414809674424\n"
     ]
    }
   ],
   "source": [
    "print (\"Root Mean Square Error with learning rate 0.0001: \", RMSE_tf0001) "
   ]
  }
 ],
 "metadata": {
  "kernelspec": {
   "display_name": "Python 3",
   "language": "python",
   "name": "python3"
  },
  "language_info": {
   "codemirror_mode": {
    "name": "ipython",
    "version": 3
   },
   "file_extension": ".py",
   "mimetype": "text/x-python",
   "name": "python",
   "nbconvert_exporter": "python",
   "pygments_lexer": "ipython3",
   "version": "3.6.2"
  }
 },
 "nbformat": 4,
 "nbformat_minor": 2
}
