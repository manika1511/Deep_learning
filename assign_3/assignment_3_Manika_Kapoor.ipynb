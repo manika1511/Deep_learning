{
 "cells": [
  {
   "cell_type": "markdown",
   "metadata": {},
   "source": [
    "## Assignment 3"
   ]
  },
  {
   "cell_type": "code",
   "execution_count": 2,
   "metadata": {
    "collapsed": true
   },
   "outputs": [],
   "source": [
    "import pandas as pd\n",
    "import numpy as np\n",
    "from sklearn.utils import shuffle\n",
    "import random\n",
    "np.random.seed(1)"
   ]
  },
  {
   "cell_type": "markdown",
   "metadata": {},
   "source": [
    "#### load the data"
   ]
  },
  {
   "cell_type": "code",
   "execution_count": 3,
   "metadata": {
    "collapsed": true
   },
   "outputs": [],
   "source": [
    "train_data = pd.read_csv('./ex3_train.csv')\n",
    "test_data = pd.read_csv('./ex3_test.csv')"
   ]
  },
  {
   "cell_type": "markdown",
   "metadata": {},
   "source": [
    "#### shuffle the dataframe"
   ]
  },
  {
   "cell_type": "code",
   "execution_count": 4,
   "metadata": {
    "collapsed": true
   },
   "outputs": [],
   "source": [
    "train_data_shuffle = shuffle(train_data, random_state = 1)\n",
    "test_data_shuffle = shuffle(test_data, random_state = 1)"
   ]
  },
  {
   "cell_type": "markdown",
   "metadata": {},
   "source": [
    "#### split the data into X and y"
   ]
  },
  {
   "cell_type": "code",
   "execution_count": 5,
   "metadata": {
    "collapsed": true
   },
   "outputs": [],
   "source": [
    "X_train = train_data.iloc[:, train_data.columns != 'y']\n",
    "y_train = train_data[\"y\"]\n",
    "X_test = test_data.iloc[:, test_data.columns != 'y']\n",
    "y_test = test_data[\"y\"]\n",
    "\n",
    "X_train_array = np.asarray(X_train)\n",
    "y_train_array = np.asarray(y_train)\n",
    "X_test_array = np.asarray(X_test)\n",
    "y_test_array = np.asarray(y_test)"
   ]
  },
  {
   "cell_type": "markdown",
   "metadata": {},
   "source": [
    "#### One-hot encoding "
   ]
  },
  {
   "cell_type": "code",
   "execution_count": 6,
   "metadata": {
    "collapsed": true
   },
   "outputs": [],
   "source": [
    "def one_hot_encoding(y, numOfClasses):\n",
    "    encoded = np.zeros((y.shape[0],numOfClasses))\n",
    "    for i in range(y.shape[0]):\n",
    "        encoded[i,y[i]] = 1.0\n",
    "    return encoded"
   ]
  },
  {
   "cell_type": "code",
   "execution_count": 7,
   "metadata": {
    "collapsed": true
   },
   "outputs": [],
   "source": [
    "y_train_encoded = one_hot_encoding(y_train_array, 10)"
   ]
  },
  {
   "cell_type": "markdown",
   "metadata": {},
   "source": [
    "#### sigmoid function"
   ]
  },
  {
   "cell_type": "code",
   "execution_count": 8,
   "metadata": {
    "collapsed": true
   },
   "outputs": [],
   "source": [
    "def sigmoid(x):\n",
    "    return 1 / (1 + np.exp(-x))"
   ]
  },
  {
   "cell_type": "code",
   "execution_count": 9,
   "metadata": {
    "collapsed": true
   },
   "outputs": [],
   "source": [
    "input_layer_size = 400\n",
    "hidden_layer_size = 25\n",
    "output_layer_size = 10"
   ]
  },
  {
   "cell_type": "markdown",
   "metadata": {},
   "source": [
    "#### Initialize Parameters"
   ]
  },
  {
   "cell_type": "markdown",
   "metadata": {},
   "source": [
    "Initialize weights"
   ]
  },
  {
   "cell_type": "code",
   "execution_count": 10,
   "metadata": {
    "collapsed": true
   },
   "outputs": [],
   "source": [
    "np.random.seed(1)\n",
    "def initialize_weights(input_layer_size,hidden_layer_size,output_layer_size):\n",
    "    w1 = np.random.uniform(-1.0, 1.0, size=hidden_layer_size*input_layer_size).reshape(hidden_layer_size,\\\n",
    "                                                                                       input_layer_size)\n",
    "    w2 = np.random.uniform(-1.0, 1.0, size=output_layer_size*hidden_layer_size).reshape(output_layer_size,\\\n",
    "                                                                                       hidden_layer_size)\n",
    "    return (w1, w2)"
   ]
  },
  {
   "cell_type": "code",
   "execution_count": 11,
   "metadata": {
    "collapsed": true
   },
   "outputs": [],
   "source": [
    "w1, w2 = initialize_weights(input_layer_size, hidden_layer_size, output_layer_size)"
   ]
  },
  {
   "cell_type": "markdown",
   "metadata": {},
   "source": [
    "Initializing bias weights to 0"
   ]
  },
  {
   "cell_type": "code",
   "execution_count": 12,
   "metadata": {
    "collapsed": true
   },
   "outputs": [],
   "source": [
    "bias1 = np.zeros((hidden_layer_size, 1))\n",
    "bias2 = np.zeros((output_layer_size, 1))"
   ]
  },
  {
   "cell_type": "code",
   "execution_count": 13,
   "metadata": {
    "collapsed": true
   },
   "outputs": [],
   "source": [
    "def forward_propagation(X, w1, w2, b1, b2):\n",
    "    a1 = X_train_array\n",
    "    z1 = (np.dot(a1,w1.T).T + b1).T\n",
    "    a2 = sigmoid(z1)\n",
    "    z2 = (np.dot(a2,w2.T).T + b2).T\n",
    "    a3 = sigmoid(z2)\n",
    "    return a1,a2,a3,z1,z2"
   ]
  },
  {
   "cell_type": "code",
   "execution_count": 14,
   "metadata": {
    "collapsed": true
   },
   "outputs": [],
   "source": [
    "a1, a2, a3, z1, z2 = forward_propagation(X_train_array, w1, w2, bias1, bias2)"
   ]
  },
  {
   "cell_type": "markdown",
   "metadata": {},
   "source": [
    "#### cost function"
   ]
  },
  {
   "cell_type": "code",
   "execution_count": 15,
   "metadata": {
    "collapsed": true
   },
   "outputs": [],
   "source": [
    "def compute_cost(prediction, actual):\n",
    "    return (1/actual.shape[0]) * -np.sum(np.multiply(actual, np.log(prediction)) + np.multiply((1-actual), \\\n",
    "                                                                                               np.log(1-prediction)))"
   ]
  },
  {
   "cell_type": "code",
   "execution_count": 16,
   "metadata": {},
   "outputs": [
    {
     "data": {
      "text/plain": [
       "13.245271623870703"
      ]
     },
     "execution_count": 16,
     "metadata": {},
     "output_type": "execute_result"
    }
   ],
   "source": [
    "compute_cost(a3, y_train_encoded)"
   ]
  },
  {
   "cell_type": "markdown",
   "metadata": {},
   "source": [
    "#### Backward Propagation"
   ]
  },
  {
   "cell_type": "code",
   "execution_count": 17,
   "metadata": {
    "collapsed": true
   },
   "outputs": [],
   "source": [
    "def backward_propagation(a2,a3,X,y,w1,w2,b1,b2):\n",
    "    m = y.shape[0]\n",
    "    dw2 = (1/m) * np.dot((a3-y).T, a2)\n",
    "    db2 = np.sum((a3-y), axis=0, keepdims=True).T\n",
    "    dw1 = (1/m) * np.dot(np.multiply(np.multiply(np.dot((a3-y),w2),a2), (1-a2)).T, X)\n",
    "    db1 = (1/m) * np.sum(np.multiply(np.multiply(np.dot((a3-y),w2),a2), (1-a2)).T, axis=1, keepdims=True)\n",
    "    return dw1, dw2, db1, db2"
   ]
  },
  {
   "cell_type": "code",
   "execution_count": 18,
   "metadata": {
    "collapsed": true
   },
   "outputs": [],
   "source": [
    "dw1, dw2, db1, db2 = backward_propagation(a2, a3, X_train_array, y_train_encoded, w1, w2, bias1, bias2)"
   ]
  },
  {
   "cell_type": "code",
   "execution_count": 50,
   "metadata": {
    "collapsed": true
   },
   "outputs": [],
   "source": [
    "def gradient_descent(X, y, w1, w2, b1, b2, alpha,ep):\n",
    "    cost_history = []\n",
    "    epochs = 0\n",
    "    a1, a2, a3, z1, z2 = forward_propagation(X, w1, w2, b1, b2)\n",
    "    newCost = compute_cost(a3, y)\n",
    "    oldCost = float('inf')\n",
    "    cost_history.append(newCost)\n",
    "    while epochs < ep:\n",
    "#     while newCost < oldCost and abs(newCost - oldCost) > 1e-5 or epochs < ep:\n",
    "        dw1, dw2, db1, db2 = backward_propagation(a2, a3, X, y, w1, w2, b1, b2)\n",
    "    \n",
    "        # update weights\n",
    "        w1 = w1 - (alpha * dw1)\n",
    "        w2 = w2 - (alpha * dw2)\n",
    "        b1 = b1 - (alpha * db1)\n",
    "        b2 = b2 - (alpha * db2)\n",
    "        \n",
    "        oldCost = newCost\n",
    "        a1, a2, a3, z1, z2 = forward_propagation(X, w1, w2, b1, b2)\n",
    "        newCost = compute_cost(a3, y)\n",
    "        cost_history.append(newCost)\n",
    "        epochs = epochs + 1\n",
    "        \n",
    "    min_cost_iter = cost_history.index(min(cost_history))\n",
    "    print (\"Minimum cost at iteration: \", min_cost_iter)\n",
    "    print (\"Minimum cost achieved: \", min(cost_history))\n",
    "    return cost_history, w1, w2, b1, b2     "
   ]
  },
  {
   "cell_type": "code",
   "execution_count": 62,
   "metadata": {
    "collapsed": true
   },
   "outputs": [],
   "source": [
    "def softmax(x):\n",
    "    mat = np.exp(x)\n",
    "    return mat / mat.sum(0)\n",
    "\n",
    "def predict(w1, w2, b1, b2, X):\n",
    "    m = X.shape[0]\n",
    "    num_labels = w2.shape[0]\n",
    "    p = np.zeros((m,1))\n",
    "    h1 = sigmoid((np.dot(X,w1.T).T + b1).T)\n",
    "    h2 = sigmoid((np.dot(h1,w2.T).T + b2).T)\n",
    "    p = softmax(h2)\n",
    "#     print (p)\n",
    "    actual_pred = []\n",
    "    for item in p:\n",
    "        actual_pred.append(np.argmax(item))\n",
    "    return actual_pred\n",
    "\n",
    "def accuracy(actual, predicted):\n",
    "    count = 0\n",
    "    for x,y in zip(actual, predicted):\n",
    "        if x == y:\n",
    "            count = count + 1\n",
    "    return count/actual.shape[0]"
   ]
  },
  {
   "cell_type": "code",
   "execution_count": 52,
   "metadata": {},
   "outputs": [
    {
     "name": "stdout",
     "output_type": "stream",
     "text": [
      "Minimum cost at iteration:  70000\n",
      "Minimum cost achieved:  0.408195472028\n"
     ]
    }
   ],
   "source": [
    "cost_history01, wl_result01, w2_result01, b1_res01, b2_res01 = gradient_descent(X_train_array,y_train_encoded,w1,w2,\\\n",
    "                                                                                bias1,bias2,0.01,70000)"
   ]
  },
  {
   "cell_type": "code",
   "execution_count": 63,
   "metadata": {},
   "outputs": [
    {
     "name": "stdout",
     "output_type": "stream",
     "text": [
      "0.9106666666666666\n"
     ]
    }
   ],
   "source": [
    "predictions01 = predict(wl_result01, w2_result01, b1_res01, b2_res01, X_test_array)\n",
    "accuracy01 = accuracy(y_test_array, predictions01)\n",
    "print (accuracy01)"
   ]
  },
  {
   "cell_type": "code",
   "execution_count": 54,
   "metadata": {},
   "outputs": [
    {
     "name": "stdout",
     "output_type": "stream",
     "text": [
      "Minimum cost at iteration:  300000\n",
      "Minimum cost achieved:  0.660254560303\n"
     ]
    }
   ],
   "source": [
    "cost_history001, wl_result001, w2_result001, b1_res001, b2_res001 = gradient_descent(X_train_array, y_train_encoded, w1, w2, bias1,\\\n",
    "                                                                      bias2, 0.001, 300000)"
   ]
  },
  {
   "cell_type": "code",
   "execution_count": 56,
   "metadata": {},
   "outputs": [
    {
     "name": "stdout",
     "output_type": "stream",
     "text": [
      "Minimum cost at iteration:  0\n",
      "Minimum cost achieved:  13.2452716239\n"
     ]
    }
   ],
   "source": [
    "cost_history1, wl_result1, w2_result1, b1_res1, b2_res1 = gradient_descent(X_train_array,y_train_encoded,w1,w2,\\\n",
    "                                                                                bias1,bias2,0.1,1000)"
   ]
  },
  {
   "cell_type": "markdown",
   "metadata": {},
   "source": [
    "#### Softmax Function"
   ]
  },
  {
   "cell_type": "code",
   "execution_count": 30,
   "metadata": {
    "collapsed": true
   },
   "outputs": [],
   "source": []
  },
  {
   "cell_type": "markdown",
   "metadata": {},
   "source": [
    "#### Prediction Function"
   ]
  },
  {
   "cell_type": "code",
   "execution_count": 41,
   "metadata": {
    "collapsed": true
   },
   "outputs": [],
   "source": []
  },
  {
   "cell_type": "code",
   "execution_count": 40,
   "metadata": {},
   "outputs": [],
   "source": [
    "predictions = predict(wl_result01, w2_result01, b1_res01, b2_res01, X_test_array)"
   ]
  },
  {
   "cell_type": "code",
   "execution_count": 317,
   "metadata": {
    "collapsed": true
   },
   "outputs": [],
   "source": [
    "predictions1 = predict(wl_result1, w2_result1, b1_res1, b2_res1, X_test_array)"
   ]
  },
  {
   "cell_type": "code",
   "execution_count": 332,
   "metadata": {
    "collapsed": true
   },
   "outputs": [],
   "source": [
    "predictions2 = predict(wl_result2, w2_result2, b1_res2, b2_res2, X_test_array)"
   ]
  },
  {
   "cell_type": "code",
   "execution_count": 36,
   "metadata": {
    "collapsed": true
   },
   "outputs": [],
   "source": [
    "def accuracy(actual, predicted):\n",
    "    count = 0\n",
    "    for x,y in zip(actual, predicted):\n",
    "        if x == y:\n",
    "            count = count + 1\n",
    "    return count/actual.shape[0]"
   ]
  },
  {
   "cell_type": "code",
   "execution_count": 37,
   "metadata": {},
   "outputs": [
    {
     "data": {
      "text/plain": [
       "0.9106666666666666"
      ]
     },
     "execution_count": 37,
     "metadata": {},
     "output_type": "execute_result"
    }
   ],
   "source": [
    "accuracy(y_test_array, predictions)"
   ]
  },
  {
   "cell_type": "code",
   "execution_count": null,
   "metadata": {
    "collapsed": true
   },
   "outputs": [],
   "source": []
  },
  {
   "cell_type": "code",
   "execution_count": null,
   "metadata": {
    "collapsed": true
   },
   "outputs": [],
   "source": []
  },
  {
   "cell_type": "code",
   "execution_count": null,
   "metadata": {
    "collapsed": true
   },
   "outputs": [],
   "source": []
  },
  {
   "cell_type": "code",
   "execution_count": null,
   "metadata": {
    "collapsed": true
   },
   "outputs": [],
   "source": []
  }
 ],
 "metadata": {
  "kernelspec": {
   "display_name": "Python 3",
   "language": "python",
   "name": "python3"
  },
  "language_info": {
   "codemirror_mode": {
    "name": "ipython",
    "version": 3
   },
   "file_extension": ".py",
   "mimetype": "text/x-python",
   "name": "python",
   "nbconvert_exporter": "python",
   "pygments_lexer": "ipython3",
   "version": "3.6.2"
  }
 },
 "nbformat": 4,
 "nbformat_minor": 2
}
