{
 "cells": [
  {
   "cell_type": "markdown",
   "metadata": {},
   "source": [
    "## Assignment 3"
   ]
  },
  {
   "cell_type": "code",
   "execution_count": 50,
   "metadata": {},
   "outputs": [],
   "source": [
    "import pandas as pd\n",
    "import numpy as np\n",
    "import random\n",
    "import matplotlib.pyplot as plt\n",
    "plt.rcParams[\"figure.figsize\"] = [8,6]\n",
    "import matplotlib as mpl\n"
   ]
  },
  {
   "cell_type": "markdown",
   "metadata": {},
   "source": [
    "#### Function Definations"
   ]
  },
  {
   "cell_type": "code",
   "execution_count": 24,
   "metadata": {
    "collapsed": true
   },
   "outputs": [],
   "source": [
    "def one_hot_encoding(y, numOfClasses):\n",
    "    \"\"\"\n",
    "    Converts label into one-hot encoding.\n",
    "    takes in the labels and the number of classes \n",
    "    \"\"\"\n",
    "    encoded = np.zeros((y.shape[0],numOfClasses))\n",
    "    for i in range(y.shape[0]):\n",
    "        encoded[i][y[i]] = 1.0\n",
    "    return encoded\n",
    "\n",
    "def sigmoid(x):\n",
    "    \"\"\"\n",
    "    Sigmoid activation function\n",
    "    converts the output in the range (0,1)\n",
    "    \"\"\"\n",
    "    return 1.0 / (1.0 + np.exp(-x))\n",
    "\n",
    "def forward_propagation(X, w1, w2, b1, b2):\n",
    "    \"\"\"\n",
    "    Does forward propagation in the neural network.\n",
    "    Takes the input matrix, weights and biases as input\n",
    "    \"\"\"\n",
    "    a0 = X\n",
    "    z1 = (np.dot(a0,w1.T).T + b1)\n",
    "    a1 = sigmoid(z1)\n",
    "    z2 = (np.dot(w2, a1)+ b2)\n",
    "    a2 = sigmoid(z2).T\n",
    "    return a0,a1,a2,z1,z2\n",
    "\n",
    "def backward_propagation(a1,a2,X,y,w1,w2,b1,b2):\n",
    "    \"\"\"\n",
    "    Applies backward propagation to the neural network and calculates the weight and bias gradients\n",
    "    \"\"\"\n",
    "    m = y.shape[0]\n",
    "    dz2 = a2-y\n",
    "    dw2 = (1/m) * np.dot(dz2.T, a1.T)\n",
    "    db2 = (1/m) * np.sum(dz2.T, axis=1, keepdims=True)\n",
    "    da1 = np.dot(dz2, w2)\n",
    "    dz1 = np.multiply(da1.T,np.multiply(a1,(1-a1)))\n",
    "    dw1 = (1/m) * np.dot(dz1, X)\n",
    "    db1 = (1/m) * np.sum(dz1, axis=1, keepdims=True)\n",
    "    return dw1, dw2, db1, db2\n",
    "\n",
    "def gradient_descent(X, y, w1, w2, b1, b2, alpha,ep):\n",
    "    \"\"\"\n",
    "    Update weights using the gradients from the backward propagation and improves network performance\n",
    "    \"\"\"\n",
    "    m = y.shape[0]\n",
    "    cost_history = []\n",
    "    epochs = 1\n",
    "    a0, a1, a2, z1, z2 = forward_propagation(X, w1, w2, b1, b2)\n",
    "    newCost = compute_cost(a2, y)\n",
    "    oldCost = float('inf')\n",
    "    cost_history.append(newCost)\n",
    "    while (newCost < oldCost and abs(newCost - oldCost) > 1e-6) and epochs < ep:\n",
    "        dw1, dw2, db1, db2 = backward_propagation(a1, a2, X, y, w1, w2, b1, b2)\n",
    "        \n",
    "        # update weights\n",
    "        w1 = w1 - (alpha * dw1)\n",
    "        w2 = w2 - (alpha * dw2)\n",
    "        b1 = b1 - (alpha * db1)\n",
    "        b2 = b2 - (alpha * db2)\n",
    "        \n",
    "        oldCost = newCost\n",
    "        a0, a1, a2, z1, z2 = forward_propagation(X, w1, w2, b1, b2)\n",
    "        newCost = compute_cost(a2, y)\n",
    "        cost_history.append(newCost)\n",
    "        epochs = epochs + 1\n",
    "        \n",
    "    min_cost_iter = cost_history.index(min(cost_history))\n",
    "    print (\"Minimum cost at iteration: \", min_cost_iter)\n",
    "    print (\"Minimum cost achieved: \", min(cost_history))\n",
    "    return cost_history, w1, w2, b1, b2 \n",
    "\n",
    "def softmax(x):\n",
    "    \"\"\"\n",
    "    Converts the sigmoid output from second last layer into confidence probabilities\n",
    "    \"\"\"\n",
    "    mat = np.exp(x)\n",
    "    return mat / mat.sum(0)\n",
    "\n",
    "def compute_cost(prediction, actual):\n",
    "    \"\"\"\n",
    "    Computes the cost given the prediction and actual labels\n",
    "    \"\"\"\n",
    "    m = actual.shape[0]\n",
    "    loss = np.multiply(actual, np.log(prediction)) + np.multiply((1-actual), np.log(1 - prediction))\n",
    "    cost = (-1/m) * np.sum(loss)\n",
    "    return cost\n",
    "\n",
    "def initialize_weights(input_layer_size,hidden_layer_size,output_layer_size):\n",
    "    \"\"\"\n",
    "    Initializes weights for input to hidden and hidden to output layer\n",
    "    \"\"\"\n",
    "    np.random.seed(1)\n",
    "    w1 = np.random.randn(hidden_layer_size, input_layer_size)*0.01\n",
    "    w2 = np.random.randn(output_layer_size, hidden_layer_size)*0.01\n",
    "    return (w1, w2)\n",
    "\n",
    "def initialize_bias_weights(hidden_layer_size,output_layer_size):\n",
    "    \"\"\"\n",
    "    initialize bias weights to zero for input to hidden and hidden to output layer\n",
    "    \"\"\"\n",
    "    bias1 = np.zeros((hidden_layer_size, 1))\n",
    "    bias2 = np.zeros((output_layer_size, 1))\n",
    "    return bias1, bias2\n",
    "\n",
    "def predict(w1, w2, b1, b2, X):\n",
    "    \"\"\"\n",
    "    Predicts the actual output using softmax\n",
    "    \"\"\"\n",
    "    m = X.shape[0]\n",
    "    num_labels = w2.shape[0]\n",
    "    p = np.zeros((m,1))\n",
    "    h1 = sigmoid((np.dot(X,w1.T).T + b1).T)\n",
    "    h2 = sigmoid((np.dot(h1,w2.T).T + b2).T)\n",
    "    p = softmax(h2)\n",
    "    actual_pred = []\n",
    "    for item in p:\n",
    "        actual_pred.append(np.argmax(item))\n",
    "    return actual_pred\n",
    "\n",
    "def accuracy(actual, predicted):\n",
    "    \"\"\"\n",
    "    Calculates the accuracy of the model\n",
    "    \"\"\"\n",
    "    count = 0\n",
    "    for x,y in zip(actual, predicted):\n",
    "        if x == y:\n",
    "            count = count + 1\n",
    "    return round(count/actual.shape[0], 5)"
   ]
  },
  {
   "cell_type": "markdown",
   "metadata": {},
   "source": [
    "#### load the data"
   ]
  },
  {
   "cell_type": "code",
   "execution_count": 25,
   "metadata": {
    "collapsed": true
   },
   "outputs": [],
   "source": [
    "train_data = pd.read_csv('./ex3_train.csv')\n",
    "test_data = pd.read_csv('./ex3_test.csv')"
   ]
  },
  {
   "cell_type": "markdown",
   "metadata": {},
   "source": [
    "#### split the data into X and y"
   ]
  },
  {
   "cell_type": "code",
   "execution_count": 26,
   "metadata": {
    "collapsed": true
   },
   "outputs": [],
   "source": [
    "X_train = train_data.iloc[:, train_data.columns != 'y']\n",
    "y_train = train_data[\"y\"].values.reshape(-1,1)\n",
    "X_test = test_data.iloc[:, test_data.columns != 'y']\n",
    "y_test = test_data[\"y\"]\n",
    "\n",
    "X_train_array = np.asarray(X_train)\n",
    "y_train_array = np.asarray(y_train)\n",
    "X_test_array = np.asarray(X_test)\n",
    "y_test_array = np.asarray(y_test)"
   ]
  },
  {
   "cell_type": "markdown",
   "metadata": {},
   "source": [
    "#### One-hot encode the labels"
   ]
  },
  {
   "cell_type": "code",
   "execution_count": 27,
   "metadata": {
    "collapsed": true
   },
   "outputs": [],
   "source": [
    "y_train_encoded = one_hot_encoding(y_train_array, 10)"
   ]
  },
  {
   "cell_type": "markdown",
   "metadata": {},
   "source": [
    "#### Network architecture"
   ]
  },
  {
   "cell_type": "code",
   "execution_count": 28,
   "metadata": {
    "collapsed": true
   },
   "outputs": [],
   "source": [
    "input_layer_size = 400\n",
    "hidden_layer_size = 25\n",
    "output_layer_size = 10"
   ]
  },
  {
   "cell_type": "markdown",
   "metadata": {},
   "source": [
    "#### Initialize Parameters"
   ]
  },
  {
   "cell_type": "markdown",
   "metadata": {},
   "source": [
    "Initialize weights"
   ]
  },
  {
   "cell_type": "code",
   "execution_count": 29,
   "metadata": {
    "collapsed": true
   },
   "outputs": [],
   "source": [
    "w1, w2 = initialize_weights(input_layer_size, hidden_layer_size, output_layer_size)"
   ]
  },
  {
   "cell_type": "markdown",
   "metadata": {},
   "source": [
    "Initializing bias weights to 0"
   ]
  },
  {
   "cell_type": "code",
   "execution_count": 30,
   "metadata": {
    "collapsed": true
   },
   "outputs": [],
   "source": [
    "b1, b2 = initialize_bias_weights(hidden_layer_size,output_layer_size)"
   ]
  },
  {
   "cell_type": "markdown",
   "metadata": {},
   "source": [
    "#### using learning rate 1"
   ]
  },
  {
   "cell_type": "markdown",
   "metadata": {},
   "source": [
    "Minimum cost, weights and bias"
   ]
  },
  {
   "cell_type": "code",
   "execution_count": 31,
   "metadata": {},
   "outputs": [
    {
     "name": "stdout",
     "output_type": "stream",
     "text": [
      "Minimum cost at iteration:  15655\n",
      "Minimum cost achieved:  0.0115690717465\n"
     ]
    }
   ],
   "source": [
    "cost_history1, wl_result1, w2_result1, b1_res1, b2_res1 = gradient_descent(X_train_array,y_train_encoded,w1,w2,\\\n",
    "                                                                                b1, b2, 1, 100000)"
   ]
  },
  {
   "cell_type": "markdown",
   "metadata": {},
   "source": [
    "Prediction and Accuracy on train dataset"
   ]
  },
  {
   "cell_type": "code",
   "execution_count": 32,
   "metadata": {},
   "outputs": [
    {
     "name": "stdout",
     "output_type": "stream",
     "text": [
      "Accuracy on train dataset using learning rate 1:  1.0\n"
     ]
    }
   ],
   "source": [
    "predictions1_train = predict(wl_result1, w2_result1, b1_res1, b2_res1, X_train_array)\n",
    "accuracy1_train = accuracy(y_train_array, predictions1_train)\n",
    "print (\"Accuracy on train dataset using learning rate 1: \", accuracy1_train)"
   ]
  },
  {
   "cell_type": "markdown",
   "metadata": {},
   "source": [
    "Prediction and Accuracy on test dataset"
   ]
  },
  {
   "cell_type": "code",
   "execution_count": 33,
   "metadata": {},
   "outputs": [
    {
     "name": "stdout",
     "output_type": "stream",
     "text": [
      "Accuracy on test dataset using learning rate 1:  0.924\n"
     ]
    }
   ],
   "source": [
    "predictions1_test = predict(wl_result1, w2_result1, b1_res1, b2_res1, X_test_array)\n",
    "accuracy1_test = accuracy(y_test_array, predictions1_test)\n",
    "print (\"Accuracy on test dataset using learning rate 1: \", accuracy1_test)"
   ]
  },
  {
   "cell_type": "markdown",
   "metadata": {},
   "source": [
    "Plot of cost versus no. of iterations "
   ]
  },
  {
   "cell_type": "code",
   "execution_count": 34,
   "metadata": {},
   "outputs": [
    {
     "data": {
      "image/png": "[encoded data removed]",
      "text/plain": [
       "<matplotlib.figure.Figure at 0x105186d68>"
      ]
     },
     "metadata": {},
     "output_type": "display_data"
    }
   ],
   "source": [
    "plt.plot(cost_history1)\n",
    "plt.xlabel(\"iterations\")\n",
    "plt.ylabel(\"cost\")\n",
    "plt.title(\"Cost plotted with alpha=1\")\n",
    "plt.show()"
   ]
  },
  {
   "cell_type": "markdown",
   "metadata": {},
   "source": [
    "#### using learning rate 0.5"
   ]
  },
  {
   "cell_type": "code",
   "execution_count": 35,
   "metadata": {},
   "outputs": [
    {
     "name": "stdout",
     "output_type": "stream",
     "text": [
      "Minimum cost at iteration:  23285\n",
      "Minimum cost achieved:  0.0166720069125\n"
     ]
    }
   ],
   "source": [
    "cost_history05, wl_result05, w2_result05, b1_res05, b2_res05 = gradient_descent(X_train_array,y_train_encoded,w1,w2,\\\n",
    "                                                                                b1, b2, 0.5, 100000)"
   ]
  },
  {
   "cell_type": "markdown",
   "metadata": {},
   "source": [
    "Prediction and Accuracy on train dataset"
   ]
  },
  {
   "cell_type": "code",
   "execution_count": 36,
   "metadata": {},
   "outputs": [
    {
     "name": "stdout",
     "output_type": "stream",
     "text": [
      "Accuracy on train dataset using learning rate 0.5:  1.0\n"
     ]
    }
   ],
   "source": [
    "predictions05_train = predict(wl_result05, w2_result05, b1_res05, b2_res05, X_train_array)\n",
    "accuracy05_train = accuracy(y_train_array, predictions05_train)\n",
    "print (\"Accuracy on train dataset using learning rate 0.5: \", accuracy05_train)"
   ]
  },
  {
   "cell_type": "markdown",
   "metadata": {},
   "source": [
    "Prediction and Accuracy on test dataset"
   ]
  },
  {
   "cell_type": "code",
   "execution_count": 37,
   "metadata": {},
   "outputs": [
    {
     "name": "stdout",
     "output_type": "stream",
     "text": [
      "Accuracy on test dataset using learning rate 0.5:  0.92867\n"
     ]
    }
   ],
   "source": [
    "predictions05_test = predict(wl_result05, w2_result05, b1_res05, b2_res05, X_test_array)\n",
    "accuracy05_test = accuracy(y_test_array, predictions05_test)\n",
    "print (\"Accuracy on test dataset using learning rate 0.5: \", accuracy05_test)"
   ]
  },
  {
   "cell_type": "markdown",
   "metadata": {},
   "source": [
    "Plot of cost versus no. of iterations"
   ]
  },
  {
   "cell_type": "code",
   "execution_count": 38,
   "metadata": {},
   "outputs": [
    {
     "data": {
      "image/png": "[encoded data removed]",
      "text/plain": [
       "<matplotlib.figure.Figure at 0x1508ec89e8>"
      ]
     },
     "metadata": {},
     "output_type": "display_data"
    }
   ],
   "source": [
    "plt.plot(cost_history05)\n",
    "plt.xlabel(\"iterations\")\n",
    "plt.ylabel(\"cost\")\n",
    "plt.title(\"Cost plotted with alpha=0.5\")\n",
    "plt.show()"
   ]
  },
  {
   "cell_type": "markdown",
   "metadata": {},
   "source": [
    "#### using learning rate 0.1"
   ]
  },
  {
   "cell_type": "code",
   "execution_count": 39,
   "metadata": {},
   "outputs": [
    {
     "name": "stdout",
     "output_type": "stream",
     "text": [
      "Minimum cost at iteration:  61466\n",
      "Minimum cost achieved:  0.0420853812964\n"
     ]
    }
   ],
   "source": [
    "cost_history01, wl_result01, w2_result01, b1_res01, b2_res01 = gradient_descent(X_train_array,y_train_encoded,w1,w2,\\\n",
    "                                                                                b1, b2, 0.1, 100000)"
   ]
  },
  {
   "cell_type": "markdown",
   "metadata": {},
   "source": [
    "Prediction and Accuracy on train dataset"
   ]
  },
  {
   "cell_type": "code",
   "execution_count": 40,
   "metadata": {},
   "outputs": [
    {
     "name": "stdout",
     "output_type": "stream",
     "text": [
      "Accuracy on train dataset using learning rate 0.1:  0.99943\n"
     ]
    }
   ],
   "source": [
    "predictions01_train = predict(wl_result01, w2_result01, b1_res01, b2_res01, X_train_array)\n",
    "accuracy01_train = accuracy(y_train_array, predictions01_train)\n",
    "print (\"Accuracy on train dataset using learning rate 0.1: \", accuracy01_train)"
   ]
  },
  {
   "cell_type": "markdown",
   "metadata": {
    "collapsed": true
   },
   "source": [
    "Prediction and Accuracy on test dataset"
   ]
  },
  {
   "cell_type": "code",
   "execution_count": 41,
   "metadata": {},
   "outputs": [
    {
     "name": "stdout",
     "output_type": "stream",
     "text": [
      "Accuracy on test dataset using learning rate 0.1:  0.93\n"
     ]
    }
   ],
   "source": [
    "predictions01_test = predict(wl_result01, w2_result01, b1_res01, b2_res01, X_test_array)\n",
    "accuracy01_test = accuracy(y_test_array, predictions01_test)\n",
    "print (\"Accuracy on test dataset using learning rate 0.1: \", accuracy01_test)"
   ]
  },
  {
   "cell_type": "markdown",
   "metadata": {},
   "source": [
    "Plot of cost versus no. of iterations"
   ]
  },
  {
   "cell_type": "code",
   "execution_count": 42,
   "metadata": {},
   "outputs": [
    {
     "data": {
      "image/png": "[encoded data removed]",
      "text/plain": [
       "<matplotlib.figure.Figure at 0x15089db668>"
      ]
     },
     "metadata": {},
     "output_type": "display_data"
    }
   ],
   "source": [
    "plt.plot(cost_history01)\n",
    "plt.xlabel(\"iterations\")\n",
    "plt.ylabel(\"cost\")\n",
    "plt.title(\"Cost plotted with alpha=0.1\")\n",
    "plt.show()"
   ]
  },
  {
   "cell_type": "markdown",
   "metadata": {},
   "source": [
    "#### using learning rate 0.01"
   ]
  },
  {
   "cell_type": "code",
   "execution_count": 43,
   "metadata": {},
   "outputs": [
    {
     "name": "stdout",
     "output_type": "stream",
     "text": [
      "Minimum cost at iteration:  119999\n",
      "Minimum cost achieved:  0.271088458127\n"
     ]
    }
   ],
   "source": [
    "cost_history001, wl_result001, w2_result001, b1_res001, b2_res001 = gradient_descent(X_train_array,y_train_encoded,w1,\\\n",
    "                                                                                     w2,b1, b2, 0.01, 120000)"
   ]
  },
  {
   "cell_type": "markdown",
   "metadata": {},
   "source": [
    "Prediction and Accuracy on train dataset"
   ]
  },
  {
   "cell_type": "code",
   "execution_count": 44,
   "metadata": {},
   "outputs": [
    {
     "name": "stdout",
     "output_type": "stream",
     "text": [
      "Accuracy on train dataset using learning rate 0.01:  0.97086\n"
     ]
    }
   ],
   "source": [
    "predictions001_train = predict(wl_result001, w2_result001, b1_res001, b2_res001, X_train_array)\n",
    "accuracy001_train = accuracy(y_train_array, predictions001_train)\n",
    "print (\"Accuracy on train dataset using learning rate 0.01: \", accuracy001_train)"
   ]
  },
  {
   "cell_type": "markdown",
   "metadata": {},
   "source": [
    "Prediction and Accuracy on test dataset"
   ]
  },
  {
   "cell_type": "code",
   "execution_count": 45,
   "metadata": {},
   "outputs": [
    {
     "name": "stdout",
     "output_type": "stream",
     "text": [
      "Accuracy on test dataset using learning rate 0.01:  0.928\n"
     ]
    }
   ],
   "source": [
    "predictions001_test = predict(wl_result001, w2_result001, b1_res001, b2_res001, X_test_array)\n",
    "accuracy001_test = accuracy(y_test_array, predictions001_test)\n",
    "print (\"Accuracy on test dataset using learning rate 0.01: \", accuracy001_test)"
   ]
  },
  {
   "cell_type": "markdown",
   "metadata": {},
   "source": [
    "Plot of cost versus no. of iterations"
   ]
  },
  {
   "cell_type": "code",
   "execution_count": 46,
   "metadata": {},
   "outputs": [
    {
     "data": {
      "image/png": "[encoded data removed]",
      "text/plain": [
       "<matplotlib.figure.Figure at 0x1508ddc860>"
      ]
     },
     "metadata": {},
     "output_type": "display_data"
    }
   ],
   "source": [
    "plt.plot(cost_history001)\n",
    "plt.xlabel(\"iterations\")\n",
    "plt.ylabel(\"cost\")\n",
    "plt.title(\"Cost plotted with alpha=0.01\")\n",
    "plt.show()"
   ]
  },
  {
   "cell_type": "markdown",
   "metadata": {},
   "source": [
    "#### Plots of costs with all alphas in one graph "
   ]
  },
  {
   "cell_type": "code",
   "execution_count": 80,
   "metadata": {},
   "outputs": [
    {
     "data": {
      "image/png": "[encoded data removed]",
      "text/plain": [
       "<matplotlib.figure.Figure at 0x1022a02b0>"
      ]
     },
     "metadata": {},
     "output_type": "display_data"
    }
   ],
   "source": [
    "costs = [cost_history1, cost_history05[0:15656], cost_history01[0:15656], cost_history001[0:15656]]\n",
    "iterations = range(0, 15656)\n",
    "plt.plot(iterations, costs[0], label=\"alpha=1\")\n",
    "plt.plot(iterations, costs[1], label=\"alpha=0.5\")\n",
    "plt.plot(iterations, costs[2], label=\"alpha=0.1\")\n",
    "plt.plot(iterations, costs[3], label=\"alpha=0.01\")\n",
    "\n",
    "plt.xlabel(\"cost\")\n",
    "plt.ylabel(\"iterations\")\n",
    "plt.title(\"Costs plotted using alpha 1,0.5,0.1 and 0.01 and 15655 iterations\")\n",
    "plt.legend()\n",
    "plt.show()"
   ]
  },
  {
   "cell_type": "markdown",
   "metadata": {},
   "source": [
    "#### Optimized Accuracy on Test Dataset"
   ]
  },
  {
   "cell_type": "code",
   "execution_count": 47,
   "metadata": {},
   "outputs": [
    {
     "name": "stdout",
     "output_type": "stream",
     "text": [
      "Optimized Accuracy achieved on Test dataset:  0.93\n"
     ]
    }
   ],
   "source": [
    "print (\"Optimized Accuracy achieved on Test dataset: \", accuracy01_test)"
   ]
  }
 ],
 "metadata": {
  "kernelspec": {
   "display_name": "Python 3",
   "language": "python",
   "name": "python3"
  },
  "language_info": {
   "codemirror_mode": {
    "name": "ipython",
    "version": 3
   },
   "file_extension": ".py",
   "mimetype": "text/x-python",
   "name": "python",
   "nbconvert_exporter": "python",
   "pygments_lexer": "ipython3",
   "version": "3.6.2"
  }
 },
 "nbformat": 4,
 "nbformat_minor": 2
}
